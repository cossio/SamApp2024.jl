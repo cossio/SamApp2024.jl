{
 "cells": [
  {
   "cell_type": "code",
   "execution_count": 2,
   "metadata": {},
   "outputs": [],
   "source": [
    "import Revise\n",
    "import SamApp2024"
   ]
  },
  {
   "cell_type": "code",
   "execution_count": 5,
   "metadata": {},
   "outputs": [],
   "source": [
    "shape_data_2023 = SamApp2024.load_shapemapper_data_pierre_demux_20230920();"
   ]
  },
  {
   "cell_type": "code",
   "execution_count": 8,
   "metadata": {},
   "outputs": [
    {
     "name": "stderr",
     "output_type": "stream",
     "text": [
      "\u001b[32m\u001b[1m Downloading\u001b[22m\u001b[39m artifact: 2024-03-14-SAMAPS2-500Artificial-resequenced-condition\n",
      "\u001b[31m\u001b[1m     Failure\u001b[22m\u001b[39m artifact: 2024-03-14-SAMAPS2-500Artificial-resequenced-condition\n",
      "\u001b[32m\u001b[1m Downloading\u001b[22m\u001b[39m artifact: 2024-03-14-SAMAPS2-500Artificial-resequenced-condition\n"
     ]
    }
   ],
   "source": [
    "shape_data_500 = SamApp2024.load_shapemapper_data_500v2_20240315();"
   ]
  },
  {
   "cell_type": "code",
   "execution_count": 38,
   "metadata": {},
   "outputs": [],
   "source": [
    "df_2022 = SamApp2024.probed_aptamers_table_20221027();\n",
    "df_seqs_500 = SamApp2024.designed_sequences_20230317();"
   ]
  },
  {
   "cell_type": "code",
   "execution_count": 40,
   "metadata": {},
   "outputs": [
    {
     "data": {
      "text/plain": [
       "\"CACCUAUCAAGAGGAUGCGAGGGACAGGCCCUGUGAACAUCCGACAACCCCUACUUCUGGUAGGAGGGUGCCACUUCCAUCUACGAUUUCGUAGAAAGAUAGGAG\""
      ]
     },
     "metadata": {},
     "output_type": "display_data"
    }
   ],
   "source": [
    "df_seqs_500.sequence[20]"
   ]
  },
  {
   "cell_type": "code",
   "execution_count": 44,
   "metadata": {},
   "outputs": [
    {
     "data": {
      "text/plain": [
       "\"AACUUAUCAAGAAAGGUGGAGGGACAGGCCCUUUGAAACCUUAGCAACCAACAUUCUUGGUGUUUGGUGCUAAGUCCAGCAGGCCUGGAAGGACUGAGAGAUAUGCC\""
      ]
     },
     "metadata": {},
     "output_type": "display_data"
    }
   ],
   "source": [
    "dms_df.sequence[only(findall(dms_df.name .== \"APSAM-S2-020\"))]"
   ]
  },
  {
   "cell_type": "code",
   "execution_count": 45,
   "metadata": {},
   "outputs": [
    {
     "data": {
      "text/plain": [
       "1-element Vector{Int64}:\n",
       " 21"
      ]
     },
     "metadata": {},
     "output_type": "display_data"
    }
   ],
   "source": [
    "findall(df_seqs_500.sequence .== dms_df.sequence[only(findall(dms_df.name .== \"APSAM-S2-020\"))])"
   ]
  },
  {
   "cell_type": "code",
   "execution_count": 46,
   "metadata": {},
   "outputs": [
    {
     "data": {
      "text/html": [
       "<div><div style = \"float: left;\"><span>487×9 DataFrame</span></div><div style = \"float: right;\"><span style = \"font-style: italic;\">462 rows omitted</span></div><div style = \"clear: both;\"></div></div><div class = \"data-frame\" style = \"overflow-x: scroll;\"><table class = \"data-frame\" style = \"margin-bottom: 6px;\"><thead><tr class = \"header\"><th class = \"rowNumber\" style = \"font-weight: bold; text-align: right;\">Row</th><th style = \"text-align: left;\">description</th><th style = \"text-align: left;\">id</th><th style = \"text-align: left;\">name</th><th style = \"text-align: left;\">sequence</th><th style = \"text-align: left;\">tag</th><th style = \"text-align: left;\">primer</th><th style = \"text-align: left;\">sequence_tag_primer</th><th style = \"text-align: left;\">t7_sequence_tag_primer</th><th style = \"text-align: left;\">aligned_sequence</th></tr><tr class = \"subheader headerLastRow\"><th class = \"rowNumber\" style = \"font-weight: bold; text-align: right;\"></th><th title = \"Missing\" style = \"text-align: left;\">Missing</th><th title = \"Missing\" style = \"text-align: left;\">Missing</th><th title = \"InlineStrings.String15\" style = \"text-align: left;\">String15</th><th title = \"String\" style = \"text-align: left;\">String</th><th title = \"InlineStrings.String15\" style = \"text-align: left;\">String15</th><th title = \"InlineStrings.String31\" style = \"text-align: left;\">String31</th><th title = \"String\" style = \"text-align: left;\">String</th><th title = \"String\" style = \"text-align: left;\">String</th><th title = \"Union{Missing, String}\" style = \"text-align: left;\">String?</th></tr></thead><tbody><tr><td class = \"rowNumber\" style = \"font-weight: bold; text-align: right;\">1</td><td style = \"font-style: italic; text-align: right;\">missing</td><td style = \"font-style: italic; text-align: right;\">missing</td><td style = \"text-align: left;\">APSAMN3</td><td style = \"text-align: left;\">CUCUUAUUAUGAGUGGAGCGAGGGAUUUGGCCCUGGGACCUCCCGGCAACCAUCGAGCUAAGCUCGAUAUGGUGCCCAUUCCAUCCCCGUUGAGUAACGGGGCAGAUAAGAA</td><td style = \"text-align: left;\">AACGGAAGAA</td><td style = \"text-align: left;\">CCAGCAGCCGCGGTAATACG</td><td style = \"text-align: left;\">CTCTTATTATGAGTGGAGCGAGGGATTTGGCCCTGGGACCTCCCGGCAACCATCGAGCTAAGCTCGATATGGTGCCCATTCCATCCCCGTTGAGTAACGGGGCAGATAAGAAAACGGAAGAACCAGCAGCCGCGGTAATACG</td><td style = \"text-align: left;\">CGGCGAATCTAATACGACTCACTATAGGCTCTTATTATGAGTGGAGCGAGGGATTTGGCCCTGGGACCTCCCGGCAACCATCGAGCTAAGCTCGATATGGTGCCCATTCCATCCCCGTTGAGTAACGGGGCAGATAAGAAAACGGAAGAACCAGCAGCCGCGGTAATACG</td><td style = \"text-align: left;\">CUCUUAUUAUGAGGGAGCGAGGGAUUGGCCCUGGGACCUCCCGGCAACCAUCGAGCUACUCGAUAUGGUGCCCAUUCCAUCCCCGUUGAGUAACGGGGCAGAUAAGAA</td></tr><tr><td class = \"rowNumber\" style = \"font-weight: bold; text-align: right;\">2</td><td style = \"font-style: italic; text-align: right;\">missing</td><td style = \"font-style: italic; text-align: right;\">missing</td><td style = \"text-align: left;\">APSAMN7</td><td style = \"text-align: left;\">ACCUUAUCCAGAGUGACCGAGGGACUUGGCCCGGUGACGUCACAGCAACCCUUGUCCCGCCAAACUUAGUAGGCGGAUCAACACGGUGCUACCUCCAACCCCAUAGUUCCAAGCGAUUAAUCGUUUUUUAUGGGGGGAAGAUAAGAA</td><td style = \"text-align: left;\">CCGCGAAGAA</td><td style = \"text-align: left;\">CCAGCAGCCGCGGTAATACG</td><td style = \"text-align: left;\">ACCTTATCCAGAGTGACCGAGGGACTTGGCCCGGTGACGTCACAGCAACCCTTGTCCCGCCAAACTTAGTAGGCGGATCAACACGGTGCTACCTCCAACCCCATAGTTCCAAGCGATTAATCGTTTTTTATGGGGGGAAGATAAGAACCGCGAAGAACCAGCAGCCGCGGTAATACG</td><td style = \"text-align: left;\">CGGCGAATCTAATACGACTCACTATAGGACCTTATCCAGAGTGACCGAGGGACTTGGCCCGGTGACGTCACAGCAACCCTTGTCCCGCCAAACTTAGTAGGCGGATCAACACGGTGCTACCTCCAACCCCATAGTTCCAAGCGATTAATCGTTTTTTATGGGGGGAAGATAAGAACCGCGAAGAACCAGCAGCCGCGGTAATACG</td><td style = \"text-align: left;\">ACCUUAUCCAGAGUGACCGAGGGAUUGGCCCGGUGACGUCACAGCAACCCUUGUCCCGAUCAACACGGUGCUACCUCCAACCCCAUA-----GGGGGGAAGAUAAGAA</td></tr><tr><td class = \"rowNumber\" style = \"font-weight: bold; text-align: right;\">3</td><td style = \"font-style: italic; text-align: right;\">missing</td><td style = \"font-style: italic; text-align: right;\">missing</td><td style = \"text-align: left;\">APSAMN8</td><td style = \"text-align: left;\">UAACUAUAAAGAGAAGGGGAGAGACAAGCUCUAUGAACCUUCAGCAACUUACCUAACAAAGGCAAAGUGCUAAAGCUUGUAUGAUAGUGAAGGUUUUAAUUUUCAUAAAAAUAAUUA</td><td style = \"text-align: left;\">AGGTCAAGAA</td><td style = \"text-align: left;\">CCAGCAGCCGCGGTAATACG</td><td style = \"text-align: left;\">TAACTATAAAGAGAAGGGGAGAGACAAGCTCTATGAACCTTCAGCAACTTACCTAACAAAGGCAAAGTGCTAAAGCTTGTATGATAGTGAAGGTTTTAATTTTCATAAAAATAATTAAGGTCAAGAACCAGCAGCCGCGGTAATACG</td><td style = \"text-align: left;\">CGGCGAATCTAATACGACTCACTATAGGTAACTATAAAGAGAAGGGGAGAGACAAGCTCTATGAACCTTCAGCAACTTACCTAACAAAGGCAAAGTGCTAAAGCTTGTATGATAGTGAAGGTTTTAATTTTCATAAAAATAATTAAGGTCAAGAACCAGCAGCCGCGGTAATACG</td><td style = \"text-align: left;\">UAACUAUAAAGAGAAGGGGAGAGACAAGCUCUAUGAACCUUCAGCAACUUACCUAACAAAGGCAA-AGUGCUAAAGCUUGUAUGAUAGUG-UUCAUAAA-AAUAAUUA</td></tr><tr><td class = \"rowNumber\" style = \"font-weight: bold; text-align: right;\">4</td><td style = \"font-style: italic; text-align: right;\">missing</td><td style = \"font-style: italic; text-align: right;\">missing</td><td style = \"text-align: left;\">APSAMN9</td><td style = \"text-align: left;\">CACUCAUGACGAGGGUGCGAGGGACUUGGCCCGAUGACCACCCGGCAACCUGUGCAGGCGAGACGCCGUCAGCCAGCACAACGGUGCCAACCAGCCGCGACGGGAACGCGGGAACAUGAGGC</td><td style = \"text-align: left;\">GAGAAGAGAA</td><td style = \"text-align: left;\">CCAGCAGCCGCGGTAATACG</td><td style = \"text-align: left;\">CACTCATGACGAGGGTGCGAGGGACTTGGCCCGATGACCACCCGGCAACCTGTGCAGGCGAGACGCCGTCAGCCAGCACAACGGTGCCAACCAGCCGCGACGGGAACGCGGGAACATGAGGCGAGAAGAGAACCAGCAGCCGCGGTAATACG</td><td style = \"text-align: left;\">CGGCGAATCTAATACGACTCACTATAGGCACTCATGACGAGGGTGCGAGGGACTTGGCCCGATGACCACCCGGCAACCTGTGCAGGCGAGACGCCGTCAGCCAGCACAACGGTGCCAACCAGCCGCGACGGGAACGCGGGAACATGAGGCGAGAAGAGAACCAGCAGCCGCGGTAATACG</td><td style = \"text-align: left;\">CACUCAUGACGAGGGUGCGAGGGAUUGGCCCGAUGACCACCCGGCAACCUGUGCAGGCAGCACAACGGUGCCAA--CCAGCCGCGACGGGAACGCGGGAACAUGAGGC</td></tr><tr><td class = \"rowNumber\" style = \"font-weight: bold; text-align: right;\">5</td><td style = \"font-style: italic; text-align: right;\">missing</td><td style = \"font-style: italic; text-align: right;\">missing</td><td style = \"text-align: left;\">APSAMN12</td><td style = \"text-align: left;\">UAAUUAUCAAGAGUAGGCACGAGGGAACUAGCCCGUUAUUAGUGUCUCAGCAACCUGUCCGCCGUGGCGGAUAAGGUGCUACUUCUAGCUCCGCCUUGGGUGGAGAGAGAUAAUAU</td><td style = \"text-align: left;\">ACACTCAGAA</td><td style = \"text-align: left;\">CCAGCAGCCGCGGTAATACG</td><td style = \"text-align: left;\">TAATTATCAAGAGTAGGCACGAGGGAACTAGCCCGTTATTAGTGTCTCAGCAACCTGTCCGCCGTGGCGGATAAGGTGCTACTTCTAGCTCCGCCTTGGGTGGAGAGAGATAATATACACTCAGAACCAGCAGCCGCGGTAATACG</td><td style = \"text-align: left;\">CGGCGAATCTAATACGACTCACTATAGGTAATTATCAAGAGTAGGCACGAGGGAACTAGCCCGTTATTAGTGTCTCAGCAACCTGTCCGCCGTGGCGGATAAGGTGCTACTTCTAGCTCCGCCTTGGGTGGAGAGAGATAATATACACTCAGAACCAGCAGCCGCGGTAATACG</td><td style = \"text-align: left;\">UAAUUAUCAAGAGAGGCCGAGGGACUAGCCCGUUAUUGUCUCAGCAACCGUCCGCCGUGCGGAUAAGGUGCUACUUCUAGCUCCGCCUUGGGUGGAGAGAGAUAAUAU</td></tr><tr><td class = \"rowNumber\" style = \"font-weight: bold; text-align: right;\">6</td><td style = \"font-style: italic; text-align: right;\">missing</td><td style = \"font-style: italic; text-align: right;\">missing</td><td style = \"text-align: left;\">APSAMN14</td><td style = \"text-align: left;\">CUCUUAUUCAGAGUGGUGGAGGUACAUAGGACCUAUGAAACCACGGCAACCCCUUGAGUGAUCAGGAAGGUGCCAACCUGAGCGUGCAGUUCCCGAAUGGGAAUAUGAGAU</td><td style = \"text-align: left;\">GATCCAAGAA</td><td style = \"text-align: left;\">CCAGCAGCCGCGGTAATACG</td><td style = \"text-align: left;\">CTCTTATTCAGAGTGGTGGAGGTACATAGGACCTATGAAACCACGGCAACCCCTTGAGTGATCAGGAAGGTGCCAACCTGAGCGTGCAGTTCCCGAATGGGAATATGAGATGATCCAAGAACCAGCAGCCGCGGTAATACG</td><td style = \"text-align: left;\">CGGCGAATCTAATACGACTCACTATAGGCTCTTATTCAGAGTGGTGGAGGTACATAGGACCTATGAAACCACGGCAACCCCTTGAGTGATCAGGAAGGTGCCAACCTGAGCGTGCAGTTCCCGAATGGGAATATGAGATGATCCAAGAACCAGCAGCCGCGGTAATACG</td><td style = \"font-style: italic; text-align: left;\">missing</td></tr><tr><td class = \"rowNumber\" style = \"font-weight: bold; text-align: right;\">7</td><td style = \"font-style: italic; text-align: right;\">missing</td><td style = \"font-style: italic; text-align: right;\">missing</td><td style = \"text-align: left;\">APSAMN15</td><td style = \"text-align: left;\">GACCUAUGAAGAGUACGGAAGAGACAGGCUCGUCGCCGUACCGCAACCUGCAUACGCAAGGUGCGAAAUCCUGCGGGGAAACCCGGAAGAUAGGGA</td><td style = \"text-align: left;\">TCCACAAGAA</td><td style = \"text-align: left;\">CCAGCAGCCGCGGTAATACG</td><td style = \"text-align: left;\">GACCTATGAAGAGTACGGAAGAGACAGGCTCGTCGCCGTACCGCAACCTGCATACGCAAGGTGCGAAATCCTGCGGGGAAACCCGGAAGATAGGGATCCACAAGAACCAGCAGCCGCGGTAATACG</td><td style = \"text-align: left;\">CGGCGAATCTAATACGACTCACTATAGGGACCTATGAAGAGTACGGAAGAGACAGGCTCGTCGCCGTACCGCAACCTGCATACGCAAGGTGCGAAATCCTGCGGGGAAACCCGGAAGATAGGGATCCACAAGAACCAGCAGCCGCGGTAATACG</td><td style = \"text-align: left;\">GACCUAUGAAGAGUACGGAAGAGACAGGCUCGUCG-CCGUACCGCAACCUGCAUA-----CGCAA-GGUGCGAAAUCCUGCGGGG-----AAACCCGGAAGAUAGGGA</td></tr><tr><td class = \"rowNumber\" style = \"font-weight: bold; text-align: right;\">8</td><td style = \"font-style: italic; text-align: right;\">missing</td><td style = \"font-style: italic; text-align: right;\">missing</td><td style = \"text-align: left;\">APSAMN17</td><td style = \"text-align: left;\">AAAUUAUCAAGAAAGCCGGGGAGAGUAUUGGCUCAUUGAUCCGGUUAGCAACCAGUUUAGUUGCCCGUAACUAUUUAUUGGUAACUGAACGUGGUGCUCCAUCCAACCCGUUAACGCAUAAGCGGGAAAGAUAAGCU</td><td style = \"text-align: left;\">TACCTAGGAA</td><td style = \"text-align: left;\">CCAGCAGCCGCGGTAATACG</td><td style = \"text-align: left;\">AAATTATCAAGAAAGCCGGGGAGAGTATTGGCTCATTGATCCGGTTAGCAACCAGTTTAGTTGCCCGTAACTATTTATTGGTAACTGAACGTGGTGCTCCATCCAACCCGTTAACGCATAAGCGGGAAAGATAAGCTTACCTAGGAACCAGCAGCCGCGGTAATACG</td><td style = \"text-align: left;\">CGGCGAATCTAATACGACTCACTATAGGAAATTATCAAGAAAGCCGGGGAGAGTATTGGCTCATTGATCCGGTTAGCAACCAGTTTAGTTGCCCGTAACTATTTATTGGTAACTGAACGTGGTGCTCCATCCAACCCGTTAACGCATAAGCGGGAAAGATAAGCTTACCTAGGAACCAGCAGCCGCGGTAATACG</td><td style = \"text-align: left;\">AAAUUAUCAAGAACCGGGGAGAGUUUGGCUCAUUGAUCCGGUAGCAACCGUUUAGUUGCUGAACGUGGUGCUCCAUCCAACCCGUUAACGCAGCGGGAAAGAUAAGCU</td></tr><tr><td class = \"rowNumber\" style = \"font-weight: bold; text-align: right;\">9</td><td style = \"font-style: italic; text-align: right;\">missing</td><td style = \"font-style: italic; text-align: right;\">missing</td><td style = \"text-align: left;\">APSAMN21</td><td style = \"text-align: left;\">AUUUUACUAAGAAGAAGGGAGAGAAUAGGCUCGAUGAACUUCUGGCAACCUGUUUCCACCGACAAGGUGCUUGUCCUGCAUCAAUCUGAUAAAGCAUAGUAUCGUAUUGCAUAUUGAAAU</td><td style = \"text-align: left;\">CTTCTCACAA</td><td style = \"text-align: left;\">CCAGCAGCCGCGGTAATACG</td><td style = \"text-align: left;\">ATTTTACTAAGAAGAAGGGAGAGAATAGGCTCGATGAACTTCTGGCAACCTGTTTCCACCGACAAGGTGCTTGTCCTGCATCAATCTGATAAAGCATAGTATCGTATTGCATATTGAAATCTTCTCACAACCAGCAGCCGCGGTAATACG</td><td style = \"text-align: left;\">CGGCGAATCTAATACGACTCACTATAGGATTTTACTAAGAAGAAGGGAGAGAATAGGCTCGATGAACTTCTGGCAACCTGTTTCCACCGACAAGGTGCTTGTCCTGCATCAATCTGATAAAGCATAGTATCGTATTGCATATTGAAATCTTCTCACAACCAGCAGCCGCGGTAATACG</td><td style = \"text-align: left;\">AUUUUACUAAGAAGAAGGGAGAGAUAGGCUCGAUGAACUUCUGGCAACCUGUUUCCA-CCGACAA-GGUGCUUGUCCCAUCAAUCU-----GUAUUGCAUAUUGAAAU</td></tr><tr><td class = \"rowNumber\" style = \"font-weight: bold; text-align: right;\">10</td><td style = \"font-style: italic; text-align: right;\">missing</td><td style = \"font-style: italic; text-align: right;\">missing</td><td style = \"text-align: left;\">APSAMN22</td><td style = \"text-align: left;\">UUCUUAUCGAGAGCGGUCGAGGGAGCCGGCCCAAUGACGCCGCAACAACCACCUGGUUUUUCGGCCAGGCAGGUGCUAAAUCCGGGCAGAGGUGCUUUGGCACCUACUGCGCAGAUAAGAG</td><td style = \"text-align: left;\">TAACGGAGAA</td><td style = \"text-align: left;\">CCAGCAGCCGCGGTAATACG</td><td style = \"text-align: left;\">TTCTTATCGAGAGCGGTCGAGGGAGCCGGCCCAATGACGCCGCAACAACCACCTGGTTTTTCGGCCAGGCAGGTGCTAAATCCGGGCAGAGGTGCTTTGGCACCTACTGCGCAGATAAGAGTAACGGAGAACCAGCAGCCGCGGTAATACG</td><td style = \"text-align: left;\">CGGCGAATCTAATACGACTCACTATAGGTTCTTATCGAGAGCGGTCGAGGGAGCCGGCCCAATGACGCCGCAACAACCACCTGGTTTTTCGGCCAGGCAGGTGCTAAATCCGGGCAGAGGTGCTTTGGCACCTACTGCGCAGATAAGAGTAACGGAGAACCAGCAGCCGCGGTAATACG</td><td style = \"text-align: left;\">UUCUUAUCGAGAGCGGUCGAGGGACCGGCCCAAUGACGCCGCAACAACCCCUGGUUUUGCCAGGCAGGUGCUAAAUCCGGGCAGAGGUGCUUACUGCGCAGAUAAGAG</td></tr><tr><td class = \"rowNumber\" style = \"font-weight: bold; text-align: right;\">11</td><td style = \"font-style: italic; text-align: right;\">missing</td><td style = \"font-style: italic; text-align: right;\">missing</td><td style = \"text-align: left;\">APSAMN23</td><td style = \"text-align: left;\">CGUUGCUCGGGAGUGAGGGAGGAAUUGGCUCAAUGAACUCCGACAACCUGCCGCCUAUAGCAAAGUGCCAAUUCCAGCUAAAGAAGAUCUUUAGUAAAAUAAGGG</td><td style = \"text-align: left;\">TGGCATAGAA</td><td style = \"text-align: left;\">CCAGCAGCCGCGGTAATACG</td><td style = \"text-align: left;\">CGTTGCTCGGGAGTGAGGGAGGAATTGGCTCAATGAACTCCGACAACCTGCCGCCTATAGCAAAGTGCCAATTCCAGCTAAAGAAGATCTTTAGTAAAATAAGGGTGGCATAGAACCAGCAGCCGCGGTAATACG</td><td style = \"text-align: left;\">CGGCGAATCTAATACGACTCACTATAGGCGTTGCTCGGGAGTGAGGGAGGAATTGGCTCAATGAACTCCGACAACCTGCCGCCTATAGCAAAGTGCCAATTCCAGCTAAAGAAGATCTTTAGTAAAATAAGGGTGGCATAGAACCAGCAGCCGCGGTAATACG</td><td style = \"text-align: left;\">CGUUGCUCGGGAGUGAGGGAGGAAUUGGCUCAAUGAACUC-CGACAACCUGCCGCCU-AUAGCAA-AGUGCCAAUUCCAGCUAAAGAAGAUCUUUAGUAAAAUAAGGG</td></tr><tr><td class = \"rowNumber\" style = \"font-weight: bold; text-align: right;\">12</td><td style = \"font-style: italic; text-align: right;\">missing</td><td style = \"font-style: italic; text-align: right;\">missing</td><td style = \"text-align: left;\">APSAMN26</td><td style = \"text-align: left;\">UUCUUUACUUGAGAAACUGAAGGAAAUGGCCCACUGAAGUUUCAGCAACACCUAAUUUUUAGGAAGGAGCUAACUUCAACAUGAUUGCGUGCAAUUAUGAGAGAUAAGAG</td><td style = \"text-align: left;\">GCCGACAGAA</td><td style = \"text-align: left;\">CCAGCAGCCGCGGTAATACG</td><td style = \"text-align: left;\">TTCTTTACTTGAGAAACTGAAGGAAATGGCCCACTGAAGTTTCAGCAACACCTAATTTTTAGGAAGGAGCTAACTTCAACATGATTGCGTGCAATTATGAGAGATAAGAGGCCGACAGAACCAGCAGCCGCGGTAATACG</td><td style = \"text-align: left;\">CGGCGAATCTAATACGACTCACTATAGGTTCTTTACTTGAGAAACTGAAGGAAATGGCCCACTGAAGTTTCAGCAACACCTAATTTTTAGGAAGGAGCTAACTTCAACATGATTGCGTGCAATTATGAGAGATAAGAGGCCGACAGAACCAGCAGCCGCGGTAATACG</td><td style = \"text-align: left;\">UUCUUUACUUGAGAAACUGAAGGAAUGGCCCACUGAAGUUUCAGCAACACCUAAUU--UUUAGGAAGGAGCUAACUUCAACAUGAUUGCGUAUUAUGAGAGAUAAGAG</td></tr><tr><td class = \"rowNumber\" style = \"font-weight: bold; text-align: right;\">13</td><td style = \"font-style: italic; text-align: right;\">missing</td><td style = \"font-style: italic; text-align: right;\">missing</td><td style = \"text-align: left;\">APSAMN27</td><td style = \"text-align: left;\">UCCUUAUCAAGAGUGGCGGGAAGAGUUCUGGCUCUAAGAUCCGCCCAGCAACCCUUUGAAGCGAUACUUUGAAGAAGGUGCUAAAUCCAGCCCAAGCCGCUCGUCGGCCGGUGGGGAAGAUAAAAU</td><td style = \"text-align: left;\">CGCGTTAGAA</td><td style = \"text-align: left;\">CCAGCAGCCGCGGTAATACG</td><td style = \"text-align: left;\">TCCTTATCAAGAGTGGCGGGAAGAGTTCTGGCTCTAAGATCCGCCCAGCAACCCTTTGAAGCGATACTTTGAAGAAGGTGCTAAATCCAGCCCAAGCCGCTCGTCGGCCGGTGGGGAAGATAAAATCGCGTTAGAACCAGCAGCCGCGGTAATACG</td><td style = \"text-align: left;\">CGGCGAATCTAATACGACTCACTATAGGTCCTTATCAAGAGTGGCGGGAAGAGTTCTGGCTCTAAGATCCGCCCAGCAACCCTTTGAAGCGATACTTTGAAGAAGGTGCTAAATCCAGCCCAAGCCGCTCGTCGGCCGGTGGGGAAGATAAAATCGCGTTAGAACCAGCAGCCGCGGTAATACG</td><td style = \"text-align: left;\">UCCUUAUCAAGAGGCGGGAAGAGUCUGGCUCUAAGAUCCGCCAGCAACCCUUUGAAGCUUGAAGAAGGUGCUAAAUCCAGCCCAA-------GUGGGGAAGAUAAAAU</td></tr><tr><td style = \"text-align: right;\">&vellip;</td><td style = \"text-align: right;\">&vellip;</td><td style = \"text-align: right;\">&vellip;</td><td style = \"text-align: right;\">&vellip;</td><td style = \"text-align: right;\">&vellip;</td><td style = \"text-align: right;\">&vellip;</td><td style = \"text-align: right;\">&vellip;</td><td style = \"text-align: right;\">&vellip;</td><td style = \"text-align: right;\">&vellip;</td><td style = \"text-align: right;\">&vellip;</td></tr><tr><td class = \"rowNumber\" style = \"font-weight: bold; text-align: right;\">476</td><td style = \"font-style: italic; text-align: right;\">missing</td><td style = \"font-style: italic; text-align: right;\">missing</td><td style = \"text-align: left;\">APSAM-S2-416</td><td style = \"text-align: left;\">CUCUUAUCAAGAGAGGUGGAGGGACUGGCCCUAUGAGACCCGGCAACCUUUGGUAAUGUUAAAUUGGUGCUAAUUCCUGCAAAGCGUACUGCUUUGAAAGAUAAGAG</td><td style = \"text-align: left;\">ATGGCTTACT</td><td style = \"text-align: left;\">CCAGTGTCCGCCTATCTCGTCG</td><td style = \"text-align: left;\">CTCTTATCAAGAGAGGTGGAGGGACTGGCCCTATGAGACCCGGCAACCTTTGGTAATGTTAAATTGGTGCTAATTCCTGCAAAGCGTACTGCTTTGAAAGATAAGAGATGGCTTACTCCAGTGTCCGCCTATCTCGTCG</td><td style = \"text-align: left;\">CGGCGAATCTAATACGACTCACTATAGGCTCTTATCAAGAGAGGTGGAGGGACTGGCCCTATGAGACCCGGCAACCTTTGGTAATGTTAAATTGGTGCTAATTCCTGCAAAGCGTACTGCTTTGAAAGATAAGAGATGGCTTACTCCAGTGTCCGCCTATCTCGTCG</td><td style = \"text-align: left;\">CUCUUAUCAAGAGAGGUGGAGGGACUGGCCCUAUGAGACC-CGGCAACCUUUGGUAAUGUUAAAUUGGUGCUAAUUCCUGCAAAGCGUACUGCUUUGAAAGAUAAGAG</td></tr><tr><td class = \"rowNumber\" style = \"font-weight: bold; text-align: right;\">477</td><td style = \"font-style: italic; text-align: right;\">missing</td><td style = \"font-style: italic; text-align: right;\">missing</td><td style = \"text-align: left;\">APSAM-S2-424</td><td style = \"text-align: left;\">CUAUUAUCCAGAGAGGUGGAGGGACUGGCCCUGUGAAGCCCGGCAACCGGGAGCCCAGCUCUCACGGUGCCAAUUCCAGCGGAGCGUGCUGCUCUGGAAGAUGAGAG</td><td style = \"text-align: left;\">CCGAATGGAC</td><td style = \"text-align: left;\">CCAGTGTCCGCCTATCTCGTCG</td><td style = \"text-align: left;\">CTATTATCCAGAGAGGTGGAGGGACTGGCCCTGTGAAGCCCGGCAACCGGGAGCCCAGCTCTCACGGTGCCAATTCCAGCGGAGCGTGCTGCTCTGGAAGATGAGAGCCGAATGGACCCAGTGTCCGCCTATCTCGTCG</td><td style = \"text-align: left;\">CGGCGAATCTAATACGACTCACTATAGGCTATTATCCAGAGAGGTGGAGGGACTGGCCCTGTGAAGCCCGGCAACCGGGAGCCCAGCTCTCACGGTGCCAATTCCAGCGGAGCGTGCTGCTCTGGAAGATGAGAGCCGAATGGACCCAGTGTCCGCCTATCTCGTCG</td><td style = \"text-align: left;\">CUAUUAUCCAGAGAGGUGGAGGGACUGGCCCUGUGAAGCC-CGGCAACCGGGAGCCCAGCUCUCACGGUGCCAAUUCCAGCGGAGCGUGCUGCUCUGGAAGAUGAGAG</td></tr><tr><td class = \"rowNumber\" style = \"font-weight: bold; text-align: right;\">478</td><td style = \"font-style: italic; text-align: right;\">missing</td><td style = \"font-style: italic; text-align: right;\">missing</td><td style = \"text-align: left;\">APSAM-S2-429</td><td style = \"text-align: left;\">UUCUUAUCAAGAGCGGCGGAGGGACUGGCCCUGUGAAGCCCGGCAACCGGCUUAGGCAGGUGCCAAUUCCAGGGGCAAAGUUUUUGCCUGUAGAUGAGAA</td><td style = \"text-align: left;\">TGGCAGTCAC</td><td style = \"text-align: left;\">CCAGTGTCCGCCTATCTCGTCG</td><td style = \"text-align: left;\">TTCTTATCAAGAGCGGCGGAGGGACTGGCCCTGTGAAGCCCGGCAACCGGCTTAGGCAGGTGCCAATTCCAGGGGCAAAGTTTTTGCCTGTAGATGAGAATGGCAGTCACCCAGTGTCCGCCTATCTCGTCG</td><td style = \"text-align: left;\">CGGCGAATCTAATACGACTCACTATAGGTTCTTATCAAGAGCGGCGGAGGGACTGGCCCTGTGAAGCCCGGCAACCGGCTTAGGCAGGTGCCAATTCCAGGGGCAAAGTTTTTGCCTGTAGATGAGAATGGCAGTCACCCAGTGTCCGCCTATCTCGTCG</td><td style = \"text-align: left;\">UUCUUAUCAAGAGCGGCGGAGGGACUGGCCCUGUGAAGCC-CGGCAACCGGCUU------AGGCA-GGUGCCAAUUCCAGGGGCAAAGUUUUUGCCUGUAGAUGAGAA</td></tr><tr><td class = \"rowNumber\" style = \"font-weight: bold; text-align: right;\">479</td><td style = \"font-style: italic; text-align: right;\">missing</td><td style = \"font-style: italic; text-align: right;\">missing</td><td style = \"text-align: left;\">APSAM-S2-430</td><td style = \"text-align: left;\">CUCUUAUCGAGAGAGGUGGAGGGACUGGCCCUAUGAAGCCCGGCAACCAUCAAAAUGUUUUAAACGGUGCCAAUUCCUGCAAAGCAUUUUGCUUUGAAAGAUGAGAG</td><td style = \"text-align: left;\">AGGACACACT</td><td style = \"text-align: left;\">CCAGTGTCCGCCTATCTCGTCG</td><td style = \"text-align: left;\">CTCTTATCGAGAGAGGTGGAGGGACTGGCCCTATGAAGCCCGGCAACCATCAAAATGTTTTAAACGGTGCCAATTCCTGCAAAGCATTTTGCTTTGAAAGATGAGAGAGGACACACTCCAGTGTCCGCCTATCTCGTCG</td><td style = \"text-align: left;\">CGGCGAATCTAATACGACTCACTATAGGCTCTTATCGAGAGAGGTGGAGGGACTGGCCCTATGAAGCCCGGCAACCATCAAAATGTTTTAAACGGTGCCAATTCCTGCAAAGCATTTTGCTTTGAAAGATGAGAGAGGACACACTCCAGTGTCCGCCTATCTCGTCG</td><td style = \"text-align: left;\">CUCUUAUCGAGAGAGGUGGAGGGACUGGCCCUAUGAAGCC-CGGCAACCAUCAAAAUGUUUUAAACGGUGCCAAUUCCUGCAAAGCAUUUUGCUUUGAAAGAUGAGAG</td></tr><tr><td class = \"rowNumber\" style = \"font-weight: bold; text-align: right;\">480</td><td style = \"font-style: italic; text-align: right;\">missing</td><td style = \"font-style: italic; text-align: right;\">missing</td><td style = \"text-align: left;\">APSAM-S2-447</td><td style = \"text-align: left;\">UUAUUAUCAAGAGAGGUUGAGGGACAGGCCCUGAGAAUCCUCAGCAACCUUUUAAAAAAGCAUGUGCUAAUUCCUGGAAGAUGAAAA</td><td style = \"text-align: left;\">ACCGCGATAC</td><td style = \"text-align: left;\">CCAGTGTCCGCCTATCTCGTCG</td><td style = \"text-align: left;\">TTATTATCAAGAGAGGTTGAGGGACAGGCCCTGAGAATCCTCAGCAACCTTTTAAAAAAGCATGTGCTAATTCCTGGAAGATGAAAAACCGCGATACCCAGTGTCCGCCTATCTCGTCG</td><td style = \"text-align: left;\">CGGCGAATCTAATACGACTCACTATAGGTTATTATCAAGAGAGGTTGAGGGACAGGCCCTGAGAATCCTCAGCAACCTTTTAAAAAAGCATGTGCTAATTCCTGGAAGATGAAAAACCGCGATACCCAGTGTCCGCCTATCTCGTCG</td><td style = \"text-align: left;\">UUAUUAUCAAGAGAGGUUGAGGGACAGGCCCUGAGAAUCCUCAGCAACCUUUUAAA----AAAGCAUGUGCUAAUUCCUG-----------------GAAGAUGAAAA</td></tr><tr><td class = \"rowNumber\" style = \"font-weight: bold; text-align: right;\">481</td><td style = \"font-style: italic; text-align: right;\">missing</td><td style = \"font-style: italic; text-align: right;\">missing</td><td style = \"text-align: left;\">APSAM-S2-461</td><td style = \"text-align: left;\">GUUUAAUUGCGAUACUCGGAGGGAGGGACCCAUAAAGGAGUAGGUCACCCCCAGACUCAAUGGGUCGGGACCAAUUUCCUGGCCUAUUACUUAGGCUUUAAAUUAAAC</td><td style = \"text-align: left;\">TGTCGAGATG</td><td style = \"text-align: left;\">CCAGTGTCCGCCTATCTCGTCG</td><td style = \"text-align: left;\">GTTTAATTGCGATACTCGGAGGGAGGGACCCATAAAGGAGTAGGTCACCCCCAGACTCAATGGGTCGGGACCAATTTCCTGGCCTATTACTTAGGCTTTAAATTAAACTGTCGAGATGCCAGTGTCCGCCTATCTCGTCG</td><td style = \"text-align: left;\">CGGCGAATCTAATACGACTCACTATAGGGTTTAATTGCGATACTCGGAGGGAGGGACCCATAAAGGAGTAGGTCACCCCCAGACTCAATGGGTCGGGACCAATTTCCTGGCCTATTACTTAGGCTTTAAATTAAACTGTCGAGATGCCAGTGTCCGCCTATCTCGTCG</td><td style = \"text-align: left;\">GUUUAAUUGCGAUACUCGGAGGGAGGGACCCAUAAAGGAGUAGGUCACCCCCAGACUCAAUGGGUCGGGACCAAUUUCCUGGCCUAUUACUUAGGCUUUAAAUUAAAC</td></tr><tr><td class = \"rowNumber\" style = \"font-weight: bold; text-align: right;\">482</td><td style = \"font-style: italic; text-align: right;\">missing</td><td style = \"font-style: italic; text-align: right;\">missing</td><td style = \"text-align: left;\">APSAM-S2-463</td><td style = \"text-align: left;\">CGGUUAUUAUGAGGCUCGGAAGGAGUCCCCUAUGGGAGAGCUUCGCACCCGGAAAUUCCCUCCGUUGGGCGAAAUUGGACCAUAAAGCGAAUUUAUGUAAGAUGAUUG</td><td style = \"text-align: left;\">TAGGTGCAAG</td><td style = \"text-align: left;\">CCAGTGTCCGCCTATCTCGTCG</td><td style = \"text-align: left;\">CGGTTATTATGAGGCTCGGAAGGAGTCCCCTATGGGAGAGCTTCGCACCCGGAAATTCCCTCCGTTGGGCGAAATTGGACCATAAAGCGAATTTATGTAAGATGATTGTAGGTGCAAGCCAGTGTCCGCCTATCTCGTCG</td><td style = \"text-align: left;\">CGGCGAATCTAATACGACTCACTATAGGCGGTTATTATGAGGCTCGGAAGGAGTCCCCTATGGGAGAGCTTCGCACCCGGAAATTCCCTCCGTTGGGCGAAATTGGACCATAAAGCGAATTTATGTAAGATGATTGTAGGTGCAAGCCAGTGTCCGCCTATCTCGTCG</td><td style = \"text-align: left;\">CGGUUAUUAUGAGGCUCGGAAGGAGUCCCCUAUGGGAGAGCUUCGCACCCGGAAAUUCCCUCCGUUGGGCGAAAUUGGACCAUAAAGCGAAUUUAUGUAAGAUGAUUG</td></tr><tr><td class = \"rowNumber\" style = \"font-weight: bold; text-align: right;\">483</td><td style = \"font-style: italic; text-align: right;\">missing</td><td style = \"font-style: italic; text-align: right;\">missing</td><td style = \"text-align: left;\">APSAM-S2-465</td><td style = \"text-align: left;\">UAUUGAUAAAGAUGAUCGGAAGGACCGGCCUAUAGUAGAUCAGAACACCCGCAGGUCUGGUGCGUAGGGUUCAAUUCCGGGAGUACCUAGAGUACUUGUAUAUUAAUA</td><td style = \"text-align: left;\">GACCAGATAT</td><td style = \"text-align: left;\">CCAGTGTCCGCCTATCTCGTCG</td><td style = \"text-align: left;\">TATTGATAAAGATGATCGGAAGGACCGGCCTATAGTAGATCAGAACACCCGCAGGTCTGGTGCGTAGGGTTCAATTCCGGGAGTACCTAGAGTACTTGTATATTAATAGACCAGATATCCAGTGTCCGCCTATCTCGTCG</td><td style = \"text-align: left;\">CGGCGAATCTAATACGACTCACTATAGGTATTGATAAAGATGATCGGAAGGACCGGCCTATAGTAGATCAGAACACCCGCAGGTCTGGTGCGTAGGGTTCAATTCCGGGAGTACCTAGAGTACTTGTATATTAATAGACCAGATATCCAGTGTCCGCCTATCTCGTCG</td><td style = \"text-align: left;\">UAUUGAUAAAGAUGAUCGGAAGGACCGGCCUAUAGUAGAUCAGAACACCCGCAGGUCUGGUGCGUAGGGUUCAAUUCCGGGAGUACCUAGAGUACUUGUAUAUUAAUA</td></tr><tr><td class = \"rowNumber\" style = \"font-weight: bold; text-align: right;\">484</td><td style = \"font-style: italic; text-align: right;\">missing</td><td style = \"font-style: italic; text-align: right;\">missing</td><td style = \"text-align: left;\">APSAM-S2-479</td><td style = \"text-align: left;\">UUAUAAUUGUGACGCUCGGAAGGAGCGCCCUAUGUAGGAGUGAUGCACCCCCGCAAAAUACGGGUUGGGCAUAACUGCGCAGAGUGACUAGCACUCUAAAAAUUGUGA</td><td style = \"text-align: left;\">CGATTAGGTC</td><td style = \"text-align: left;\">CCAGTGTCCGCCTATCTCGTCG</td><td style = \"text-align: left;\">TTATAATTGTGACGCTCGGAAGGAGCGCCCTATGTAGGAGTGATGCACCCCCGCAAAATACGGGTTGGGCATAACTGCGCAGAGTGACTAGCACTCTAAAAATTGTGACGATTAGGTCCCAGTGTCCGCCTATCTCGTCG</td><td style = \"text-align: left;\">CGGCGAATCTAATACGACTCACTATAGGTTATAATTGTGACGCTCGGAAGGAGCGCCCTATGTAGGAGTGATGCACCCCCGCAAAATACGGGTTGGGCATAACTGCGCAGAGTGACTAGCACTCTAAAAATTGTGACGATTAGGTCCCAGTGTCCGCCTATCTCGTCG</td><td style = \"text-align: left;\">UUAUAAUUGUGACGCUCGGAAGGAGCGCCCUAUGUAGGAGUGAUGCACCCCCGCAAAAUACGGGUUGGGCAUAACUGCGCAGAGUGACUAGCACUCUAAAAAUUGUGA</td></tr><tr><td class = \"rowNumber\" style = \"font-weight: bold; text-align: right;\">485</td><td style = \"font-style: italic; text-align: right;\">missing</td><td style = \"font-style: italic; text-align: right;\">missing</td><td style = \"text-align: left;\">APSAM-S2-490</td><td style = \"text-align: left;\">UUGUGAUUAAGAGGUUCGGAAGGAGCGGCCUAUAGUAGAAUCGGGCACCCGUUACAAAGAAACGUCGGGCUCAACUCCGCACUCGUUUAUUACGGGUACAGAUUGCGA</td><td style = \"text-align: left;\">GATCATGGAT</td><td style = \"text-align: left;\">CCAGTGTCCGCCTATCTCGTCG</td><td style = \"text-align: left;\">TTGTGATTAAGAGGTTCGGAAGGAGCGGCCTATAGTAGAATCGGGCACCCGTTACAAAGAAACGTCGGGCTCAACTCCGCACTCGTTTATTACGGGTACAGATTGCGAGATCATGGATCCAGTGTCCGCCTATCTCGTCG</td><td style = \"text-align: left;\">CGGCGAATCTAATACGACTCACTATAGGTTGTGATTAAGAGGTTCGGAAGGAGCGGCCTATAGTAGAATCGGGCACCCGTTACAAAGAAACGTCGGGCTCAACTCCGCACTCGTTTATTACGGGTACAGATTGCGAGATCATGGATCCAGTGTCCGCCTATCTCGTCG</td><td style = \"text-align: left;\">UUGUGAUUAAGAGGUUCGGAAGGAGCGGCCUAUAGUAGAAUCGGGCACCCGUUACAAAGAAACGUCGGGCUCAACUCCGCACUCGUUUAUUACGGGUACAGAUUGCGA</td></tr><tr><td class = \"rowNumber\" style = \"font-weight: bold; text-align: right;\">486</td><td style = \"font-style: italic; text-align: right;\">missing</td><td style = \"font-style: italic; text-align: right;\">missing</td><td style = \"text-align: left;\">APSAM-S2-492</td><td style = \"text-align: left;\">UUGGUAUGGCGAUGCUCGGAGGGAGCUCCCCAUAAAAGAGCACUCCACCCUGCGUCUAAAGUAGUCGGGGAGAAUUGAGCUGUGCGCGAUACGCACAUAAUAUACUGA</td><td style = \"text-align: left;\">CGAGAGATGC</td><td style = \"text-align: left;\">CCAGTGTCCGCCTATCTCGTCG</td><td style = \"text-align: left;\">TTGGTATGGCGATGCTCGGAGGGAGCTCCCCATAAAAGAGCACTCCACCCTGCGTCTAAAGTAGTCGGGGAGAATTGAGCTGTGCGCGATACGCACATAATATACTGACGAGAGATGCCCAGTGTCCGCCTATCTCGTCG</td><td style = \"text-align: left;\">CGGCGAATCTAATACGACTCACTATAGGTTGGTATGGCGATGCTCGGAGGGAGCTCCCCATAAAAGAGCACTCCACCCTGCGTCTAAAGTAGTCGGGGAGAATTGAGCTGTGCGCGATACGCACATAATATACTGACGAGAGATGCCCAGTGTCCGCCTATCTCGTCG</td><td style = \"text-align: left;\">UUGGUAUGGCGAUGCUCGGAGGGAGCUCCCCAUAAAAGAGCACUCCACCCUGCGUCUAAAGUAGUCGGGGAGAAUUGAGCUGUGCGCGAUACGCACAUAAUAUACUGA</td></tr><tr><td class = \"rowNumber\" style = \"font-weight: bold; text-align: right;\">487</td><td style = \"font-style: italic; text-align: right;\">missing</td><td style = \"font-style: italic; text-align: right;\">missing</td><td style = \"text-align: left;\">APSAM-S2-493</td><td style = \"text-align: left;\">CUGUUAUGAAGACCGUCGGAAGGAUGACCCUAUAAAGGACGGCUGCACCCCGCUAGCUUCGCGGUCGGGCAGAAUUGUCAGAACAUAUCUAGUGUUUGAAUAUAAUGG</td><td style = \"text-align: left;\">TCGAGAGGCT</td><td style = \"text-align: left;\">CCAGTGTCCGCCTATCTCGTCG</td><td style = \"text-align: left;\">CTGTTATGAAGACCGTCGGAAGGATGACCCTATAAAGGACGGCTGCACCCCGCTAGCTTCGCGGTCGGGCAGAATTGTCAGAACATATCTAGTGTTTGAATATAATGGTCGAGAGGCTCCAGTGTCCGCCTATCTCGTCG</td><td style = \"text-align: left;\">CGGCGAATCTAATACGACTCACTATAGGCTGTTATGAAGACCGTCGGAAGGATGACCCTATAAAGGACGGCTGCACCCCGCTAGCTTCGCGGTCGGGCAGAATTGTCAGAACATATCTAGTGTTTGAATATAATGGTCGAGAGGCTCCAGTGTCCGCCTATCTCGTCG</td><td style = \"text-align: left;\">CUGUUAUGAAGACCGUCGGAAGGAUGACCCUAUAAAGGACGGCUGCACCCCGCUAGCUUCGCGGUCGGGCAGAAUUGUCAGAACAUAUCUAGUGUUUGAAUAUAAUGG</td></tr></tbody></table></div>"
      ],
      "text/latex": [
       "\\begin{tabular}{r|ccccc}\n",
       "\t& description & id & name & sequence & \\\\\n",
       "\t\\hline\n",
       "\t& Missing & Missing & String15 & String & \\\\\n",
       "\t\\hline\n",
       "\t1 & \\emph{missing} & \\emph{missing} & APSAMN3 & CUCUUAUUAUGAGUGGAGCGAGGGAUUUGGCCCUGGGACCUCCCGGCAACCAUCGAGCUAAGCUCGAUAUGGUGCCCAUUCCAUCCCCGUUGAGUAACGGGGCAGAUAAGAA & $\\dots$ \\\\\n",
       "\t2 & \\emph{missing} & \\emph{missing} & APSAMN7 & ACCUUAUCCAGAGUGACCGAGGGACUUGGCCCGGUGACGUCACAGCAACCCUUGUCCCGCCAAACUUAGUAGGCGGAUCAACACGGUGCUACCUCCAACCCCAUAGUUCCAAGCGAUUAAUCGUUUUUUAUGGGGGGAAGAUAAGAA & $\\dots$ \\\\\n",
       "\t3 & \\emph{missing} & \\emph{missing} & APSAMN8 & UAACUAUAAAGAGAAGGGGAGAGACAAGCUCUAUGAACCUUCAGCAACUUACCUAACAAAGGCAAAGUGCUAAAGCUUGUAUGAUAGUGAAGGUUUUAAUUUUCAUAAAAAUAAUUA & $\\dots$ \\\\\n",
       "\t4 & \\emph{missing} & \\emph{missing} & APSAMN9 & CACUCAUGACGAGGGUGCGAGGGACUUGGCCCGAUGACCACCCGGCAACCUGUGCAGGCGAGACGCCGUCAGCCAGCACAACGGUGCCAACCAGCCGCGACGGGAACGCGGGAACAUGAGGC & $\\dots$ \\\\\n",
       "\t5 & \\emph{missing} & \\emph{missing} & APSAMN12 & UAAUUAUCAAGAGUAGGCACGAGGGAACUAGCCCGUUAUUAGUGUCUCAGCAACCUGUCCGCCGUGGCGGAUAAGGUGCUACUUCUAGCUCCGCCUUGGGUGGAGAGAGAUAAUAU & $\\dots$ \\\\\n",
       "\t6 & \\emph{missing} & \\emph{missing} & APSAMN14 & CUCUUAUUCAGAGUGGUGGAGGUACAUAGGACCUAUGAAACCACGGCAACCCCUUGAGUGAUCAGGAAGGUGCCAACCUGAGCGUGCAGUUCCCGAAUGGGAAUAUGAGAU & $\\dots$ \\\\\n",
       "\t7 & \\emph{missing} & \\emph{missing} & APSAMN15 & GACCUAUGAAGAGUACGGAAGAGACAGGCUCGUCGCCGUACCGCAACCUGCAUACGCAAGGUGCGAAAUCCUGCGGGGAAACCCGGAAGAUAGGGA & $\\dots$ \\\\\n",
       "\t8 & \\emph{missing} & \\emph{missing} & APSAMN17 & AAAUUAUCAAGAAAGCCGGGGAGAGUAUUGGCUCAUUGAUCCGGUUAGCAACCAGUUUAGUUGCCCGUAACUAUUUAUUGGUAACUGAACGUGGUGCUCCAUCCAACCCGUUAACGCAUAAGCGGGAAAGAUAAGCU & $\\dots$ \\\\\n",
       "\t9 & \\emph{missing} & \\emph{missing} & APSAMN21 & AUUUUACUAAGAAGAAGGGAGAGAAUAGGCUCGAUGAACUUCUGGCAACCUGUUUCCACCGACAAGGUGCUUGUCCUGCAUCAAUCUGAUAAAGCAUAGUAUCGUAUUGCAUAUUGAAAU & $\\dots$ \\\\\n",
       "\t10 & \\emph{missing} & \\emph{missing} & APSAMN22 & UUCUUAUCGAGAGCGGUCGAGGGAGCCGGCCCAAUGACGCCGCAACAACCACCUGGUUUUUCGGCCAGGCAGGUGCUAAAUCCGGGCAGAGGUGCUUUGGCACCUACUGCGCAGAUAAGAG & $\\dots$ \\\\\n",
       "\t11 & \\emph{missing} & \\emph{missing} & APSAMN23 & CGUUGCUCGGGAGUGAGGGAGGAAUUGGCUCAAUGAACUCCGACAACCUGCCGCCUAUAGCAAAGUGCCAAUUCCAGCUAAAGAAGAUCUUUAGUAAAAUAAGGG & $\\dots$ \\\\\n",
       "\t12 & \\emph{missing} & \\emph{missing} & APSAMN26 & UUCUUUACUUGAGAAACUGAAGGAAAUGGCCCACUGAAGUUUCAGCAACACCUAAUUUUUAGGAAGGAGCUAACUUCAACAUGAUUGCGUGCAAUUAUGAGAGAUAAGAG & $\\dots$ \\\\\n",
       "\t13 & \\emph{missing} & \\emph{missing} & APSAMN27 & UCCUUAUCAAGAGUGGCGGGAAGAGUUCUGGCUCUAAGAUCCGCCCAGCAACCCUUUGAAGCGAUACUUUGAAGAAGGUGCUAAAUCCAGCCCAAGCCGCUCGUCGGCCGGUGGGGAAGAUAAAAU & $\\dots$ \\\\\n",
       "\t14 & \\emph{missing} & \\emph{missing} & APSAMN29 & GAUUUAUAGAGAAGAGGGGAGAGAUUAGGCUCUGUGAACCUCUAGCAACCGGAAUAAAUAUGUUCUAUGGUGCUAAUACCUAACCCAAAGGUUCCGUUUAUAGGGAAAAACCGAAGGGAAAUUAUAAACU & $\\dots$ \\\\\n",
       "\t15 & \\emph{missing} & \\emph{missing} & APSAMN32 & CAUUUAUUCCGAAGAGGCGAGAGACUAGGCUCCGUGACCCUCUGGCAACCACCAGCAAUGCACAAGCUGGCAGGUGCCAAAUCCUGCCCCACUGCUCACUGCAGGAAGGGGAAAAAUAAACC & $\\dots$ \\\\\n",
       "\t16 & \\emph{missing} & \\emph{missing} & APSAMN34 & AAUAAAUCAAGAGUGUGCUGAGGGCACUGGCCCAUAGAAGCACCGCCAACCGAGUCUUACGACCACGGUGGCAAAUCCAGCCCUUGAAAGAGGGAAAGAUUUGGC & $\\dots$ \\\\\n",
       "\t17 & \\emph{missing} & \\emph{missing} & APSAMN36 & CUACUAUAAAGAGUGCGUGAGGGAGUAAGCCCUAUGAUCGCACACCAACCUACCAAAAGGCAAGGUGGUAAAGCUUAACCGAUGGUGUGUAUAUAUUUAGACUGGUCAACAUCUAUCGGUAACGAUGGGUG & $\\dots$ \\\\\n",
       "\t18 & \\emph{missing} & \\emph{missing} & APSAMN39 & UAAAUAUCAAGAGAGCGACGAGGGAUUCUGGUCCUAUGACUCGCCAGCAACCGAAUGGAGACAUCACGGUGCUACGUCCAGCCUGAAGUAAUUCAGGAAGAUAUUUC & $\\dots$ \\\\\n",
       "\t19 & \\emph{missing} & \\emph{missing} & APSAMN40 & AUGUCAUCAAGAAAGGUAGAGGGUUCGCGCCCGAUGAAGCCUUAGCAACCGUCCAAAGGUCUAAUUCGCGAAAGUUAAGCAACUUUGGAUUGGUGCUAAUUCGCGCCUGUGCGUCAUUGCAACGGGGAAGAUGAUAG & $\\dots$ \\\\\n",
       "\t20 & \\emph{missing} & \\emph{missing} & APSAMN41 & CAGCUAUCAAGAGCAGGCGAGUGAUACAGCACUUUGACCCUGCACCAACCGGCGGUAAAUUUAACAAUUUGCAGUGUACGGUGGUAAUUCUGUACAGAUAGUCG & $\\dots$ \\\\\n",
       "\t21 & \\emph{missing} & \\emph{missing} & APSAMN42 & UUUUUAUACAGAGACGCGGAGAGAAAGGCUCUACGAUGCGUCGGCAACCUCCGCUAAUGGCCGGAACGGUGCCCAACCGAAGGUCAGAGAAGCUACUUCCUGACAAUAUAAAAA & $\\dots$ \\\\\n",
       "\t22 & \\emph{missing} & \\emph{missing} & APSAMN43 & UCCUUAUUAAGAGCGAGUGAGGGAAUGGGCCCGGCGAACUCGCGGCAGCAUCGCAUAUUGCGGUUGUGCCAAGUCCCACAGGCAAAGCCUGAAAGAUGAGGA & $\\dots$ \\\\\n",
       "\t23 & \\emph{missing} & \\emph{missing} & APSAMN44 & CUCUUAUCCUGAGUUGGCGGAGGGACAGGCCCGAUGAAACCCGGCAACCUUCUCAACGACAAGCGAUGAUUUUGAAGCCGUCAGGUAAAAGGACAUGCUUCUUAUGUCGUACCGGCGACGCGAGGGGCUUGUGAGAAAGGUGCUAACCUGAUGCAAGGUGUAAAUACCUUGAACGAUAAGAG & $\\dots$ \\\\\n",
       "\t24 & \\emph{missing} & \\emph{missing} & APSAMN45 & CUUUUAUCCAGAGCGAUGGAGGGAUCGGCCCUGCGAAGUCGCAGCAACCCACAAAAAGCCUCUGCUCAUCACCAGAUGGCUUUUUGCAAGGUGCUAAUUCCGGCCCGACUGCUGAACGUUGUAGGCACACGAUGUUCAAGGCUAGGCAUAGCCUGGCAGUUGGGAAAGAUAAGAG & $\\dots$ \\\\\n",
       "\t$\\dots$ & $\\dots$ & $\\dots$ & $\\dots$ & $\\dots$ &  \\\\\n",
       "\\end{tabular}\n"
      ],
      "text/plain": [
       "\u001b[1m487×9 DataFrame\u001b[0m\n",
       "\u001b[1m Row \u001b[0m│\u001b[1m description \u001b[0m\u001b[1m id      \u001b[0m\u001b[1m name         \u001b[0m\u001b[1m sequence                          \u001b[0m\u001b[1m \u001b[0m ⋯\n",
       "     │\u001b[90m Missing     \u001b[0m\u001b[90m Missing \u001b[0m\u001b[90m String15     \u001b[0m\u001b[90m String                            \u001b[0m\u001b[90m \u001b[0m ⋯\n",
       "─────┼──────────────────────────────────────────────────────────────────────────\n",
       "   1 │\u001b[90m     missing \u001b[0m\u001b[90m missing \u001b[0m APSAMN3       CUCUUAUUAUGAGUGGAGCGAGGGAUUUGGCC…   ⋯\n",
       "   2 │\u001b[90m     missing \u001b[0m\u001b[90m missing \u001b[0m APSAMN7       ACCUUAUCCAGAGUGACCGAGGGACUUGGCCC…\n",
       "   3 │\u001b[90m     missing \u001b[0m\u001b[90m missing \u001b[0m APSAMN8       UAACUAUAAAGAGAAGGGGAGAGACAAGCUCU…\n",
       "   4 │\u001b[90m     missing \u001b[0m\u001b[90m missing \u001b[0m APSAMN9       CACUCAUGACGAGGGUGCGAGGGACUUGGCCC…\n",
       "   5 │\u001b[90m     missing \u001b[0m\u001b[90m missing \u001b[0m APSAMN12      UAAUUAUCAAGAGUAGGCACGAGGGAACUAGC…   ⋯\n",
       "   6 │\u001b[90m     missing \u001b[0m\u001b[90m missing \u001b[0m APSAMN14      CUCUUAUUCAGAGUGGUGGAGGUACAUAGGAC…\n",
       "   7 │\u001b[90m     missing \u001b[0m\u001b[90m missing \u001b[0m APSAMN15      GACCUAUGAAGAGUACGGAAGAGACAGGCUCG…\n",
       "   8 │\u001b[90m     missing \u001b[0m\u001b[90m missing \u001b[0m APSAMN17      AAAUUAUCAAGAAAGCCGGGGAGAGUAUUGGC…\n",
       "  ⋮  │      ⋮          ⋮          ⋮                        ⋮                   ⋱\n",
       " 481 │\u001b[90m     missing \u001b[0m\u001b[90m missing \u001b[0m APSAM-S2-461  GUUUAAUUGCGAUACUCGGAGGGAGGGACCCA…   ⋯\n",
       " 482 │\u001b[90m     missing \u001b[0m\u001b[90m missing \u001b[0m APSAM-S2-463  CGGUUAUUAUGAGGCUCGGAAGGAGUCCCCUA…\n",
       " 483 │\u001b[90m     missing \u001b[0m\u001b[90m missing \u001b[0m APSAM-S2-465  UAUUGAUAAAGAUGAUCGGAAGGACCGGCCUA…\n",
       " 484 │\u001b[90m     missing \u001b[0m\u001b[90m missing \u001b[0m APSAM-S2-479  UUAUAAUUGUGACGCUCGGAAGGAGCGCCCUA…\n",
       " 485 │\u001b[90m     missing \u001b[0m\u001b[90m missing \u001b[0m APSAM-S2-490  UUGUGAUUAAGAGGUUCGGAAGGAGCGGCCUA…   ⋯\n",
       " 486 │\u001b[90m     missing \u001b[0m\u001b[90m missing \u001b[0m APSAM-S2-492  UUGGUAUGGCGAUGCUCGGAGGGAGCUCCCCA…\n",
       " 487 │\u001b[90m     missing \u001b[0m\u001b[90m missing \u001b[0m APSAM-S2-493  CUGUUAUGAAGACCGUCGGAAGGAUGACCCUA…\n",
       "\u001b[36m                                                  5 columns and 472 rows omitted\u001b[0m"
      ]
     },
     "metadata": {},
     "output_type": "display_data"
    }
   ],
   "source": [
    "dms_df"
   ]
  },
  {
   "cell_type": "code",
   "execution_count": null,
   "metadata": {},
   "outputs": [],
   "source": [
    "df_seqs_500.sequence[20]"
   ]
  },
  {
   "cell_type": "code",
   "execution_count": 36,
   "metadata": {},
   "outputs": [
    {
     "data": {
      "text/plain": [
       "306-element Vector{Union{Missing, String}}:\n",
       " \"AUAUUAUCAAGAGGAGCCGAGGGUCUGACCC\"\u001b[93m\u001b[1m ⋯ 46 bytes ⋯ \u001b[22m\u001b[39m\"CAGCCUUG-------CGAGGAGAGAUGAUGU\"\n",
       " \"AAUCCAUCUAGAGCGACCGAGAGACUGGCUC\"\u001b[93m\u001b[1m ⋯ 46 bytes ⋯ \u001b[22m\u001b[39m\"CAG------------------CCGAUGGGAG\"\n",
       " \"CUCUUAUUAUGAGGGAGCGAGGGAUUGGCCC\"\u001b[93m\u001b[1m ⋯ 46 bytes ⋯ \u001b[22m\u001b[39m\"CAUCCCCGUUGAGUAACGGGGCAGAUAAGAA\"\n",
       " \"-ACGUAUCCAGAGGCAGCGAGAGACUAGCUC\"\u001b[93m\u001b[1m ⋯ 46 bytes ⋯ \u001b[22m\u001b[39m\"UAGCCCUGAAGAACUCGGGGGAAGAUAACAG\"\n",
       " \"CUCUUAUCCAGAGAAGCGGAGGGACCGACCC\"\u001b[93m\u001b[1m ⋯ 46 bytes ⋯ \u001b[22m\u001b[39m\"CGGCAAAUAAGAA-UAUCUGGAAGAUGAGAG\"\n",
       " missing\n",
       " \"ACCUUAUCCAGAGUGACCGAGGGAUUGGCCC\"\u001b[93m\u001b[1m ⋯ 46 bytes ⋯ \u001b[22m\u001b[39m\"CAACCCCAUA-----GGGGGGAAGAUAAGAA\"\n",
       " \"UAACUAUAAAGAGAAGGGGAGAGACAAGCUC\"\u001b[93m\u001b[1m ⋯ 46 bytes ⋯ \u001b[22m\u001b[39m\"UUGUAUGAUAGUG-UUCAUAAA-AAUAAUUA\"\n",
       " \"CACUCAUGACGAGGGUGCGAGGGAUUGGCCC\"\u001b[93m\u001b[1m ⋯ 46 bytes ⋯ \u001b[22m\u001b[39m\"CAGCCGCGACGGGAACGCGGGAACAUGAGGC\"\n",
       " \"UACUUAUUAAGAGCUAUCGAGGCGAGUGGCC\"\u001b[93m\u001b[1m ⋯ 46 bytes ⋯ \u001b[22m\u001b[39m\"CUAGGG---GGAAA---CCCAUCAAUAAGGA\"\n",
       " ⋮\n",
       " \"UCCUUAUCAAGAGCGGUGGAGGAAAUGGUCC\"\u001b[93m\u001b[1m ⋯ 46 bytes ⋯ \u001b[22m\u001b[39m\"CAUCAGGCA---CAUGCCUGACAGAUAAGGA\"\n",
       " \"UACUUAUCAAGAAAGGCAGAGGGAAAGGCCC\"\u001b[93m\u001b[1m ⋯ 46 bytes ⋯ \u001b[22m\u001b[39m\"CUACCCCUUGCACAAAGGGGACAGAUAAGUC\"\n",
       " \"CGCUCAUCGAGACCGGCCGAGGGACUGGCCC\"\u001b[93m\u001b[1m ⋯ 46 bytes ⋯ \u001b[22m\u001b[39m\"CUGUGGGCGUAGGACGCCCAGAAGAUGAGUG\"\n",
       " \"CUUUCAUCCAGAGUGGCGGAGGGACUGACCC\"\u001b[93m\u001b[1m ⋯ 46 bytes ⋯ \u001b[22m\u001b[39m\"CUGCGGAGGCGGCGCCUCCGGCAGAUGAAAG\"\n",
       " \"CUCUUAUCCAGAGAGGCAGAGGGAUCGGCCC\"\u001b[93m\u001b[1m ⋯ 46 bytes ⋯ \u001b[22m\u001b[39m\"CGGCAGAAGAUAAGCUUCUGGGAGAUGAGAG\"\n",
       " \"UUCUUAUCAAGAGCGGCGGAGGGAAUGGCCC\"\u001b[93m\u001b[1m ⋯ 46 bytes ⋯ \u001b[22m\u001b[39m\"CAGCAGCGC--AUUGAGCUGGCAGAUAAGAA\"\n",
       " \"CGCUCAUCCAGAGAGGUGGAGGGAACGGCCC\"\u001b[93m\u001b[1m ⋯ 46 bytes ⋯ \u001b[22m\u001b[39m\"CGUCAGAGCCACAGGUUCUGAAAGAUGAGCG\"\n",
       " \"UUCUUAUCGAGAGAGGUGGAGGGAAUGGCCC\"\u001b[93m\u001b[1m ⋯ 46 bytes ⋯ \u001b[22m\u001b[39m\"CAGCAGGUUUUGAGAACCUGAAAGAUAAGAA\"\n",
       " \"CUCUUAUCAAGAGCGGUGGAGGGACAGGCCC\"\u001b[93m\u001b[1m ⋯ 46 bytes ⋯ \u001b[22m\u001b[39m\"CUACAGGUCCUUAGGACCUGGCAGAUAAGAG\""
      ]
     },
     "metadata": {},
     "output_type": "display_data"
    }
   ],
   "source": [
    "shape_data_2023.aligned_sequences"
   ]
  },
  {
   "cell_type": "code",
   "execution_count": 37,
   "metadata": {},
   "outputs": [
    {
     "data": {
      "text/plain": [
       "306-element Vector{String}:\n",
       " \"APSAMN1\"\n",
       " \"APSAMN2\"\n",
       " \"APSAMN3\"\n",
       " \"APSAMN4\"\n",
       " \"APSAMN5\"\n",
       " \"APSAMN6\"\n",
       " \"APSAMN7\"\n",
       " \"APSAMN8\"\n",
       " \"APSAMN9\"\n",
       " \"APSAMN10\"\n",
       " ⋮\n",
       " \"APSAMS92\"\n",
       " \"APSAMS93\"\n",
       " \"APSAMS94\"\n",
       " \"APSAMS95\"\n",
       " \"APSAMS96\"\n",
       " \"APSAMS97\"\n",
       " \"APSAMS98\"\n",
       " \"APSAMS99\"\n",
       " \"APSAMS100\""
      ]
     },
     "metadata": {},
     "output_type": "display_data"
    }
   ],
   "source": [
    "shape_data_2023.aptamer_names"
   ]
  },
  {
   "cell_type": "code",
   "execution_count": 25,
   "metadata": {},
   "outputs": [
    {
     "data": {
      "text/html": [
       "<div><div style = \"float: left;\"><span>450×6 DataFrame</span></div><div style = \"float: right;\"><span style = \"font-style: italic;\">425 rows omitted</span></div><div style = \"clear: both;\"></div></div><div class = \"data-frame\" style = \"overflow-x: scroll;\"><table class = \"data-frame\" style = \"margin-bottom: 6px;\"><thead><tr class = \"header\"><th class = \"rowNumber\" style = \"font-weight: bold; text-align: right;\">Row</th><th style = \"text-align: left;\">aligned_sequence</th><th style = \"text-align: left;\">origin</th><th style = \"text-align: left;\">criteria</th><th style = \"text-align: left;\">sequence</th><th style = \"text-align: left;\">rbm_energy</th><th style = \"text-align: left;\">functional_prediction</th></tr><tr class = \"subheader headerLastRow\"><th class = \"rowNumber\" style = \"font-weight: bold; text-align: right;\"></th><th title = \"String\" style = \"text-align: left;\">String</th><th title = \"InlineStrings.String15\" style = \"text-align: left;\">String15</th><th title = \"InlineStrings.String7\" style = \"text-align: left;\">String7</th><th title = \"String\" style = \"text-align: left;\">String</th><th title = \"Float64\" style = \"text-align: left;\">Float64</th><th title = \"InlineStrings.String15\" style = \"text-align: left;\">String15</th></tr></thead><tbody><tr><td class = \"rowNumber\" style = \"font-weight: bold; text-align: right;\">1</td><td style = \"text-align: left;\">GUCUUAUACUGAGCGGG-GAGGGACAGGCCCUGUGAACCCGCGGCAACCUCCCAUA---UUGGACAGGUGCUAAUUCCCACAGGGCAAGUGGCCCUGAGAGAUAAGAU</td><td style = \"text-align: left;\">infernal</td><td style = \"text-align: left;\">uniform</td><td style = \"text-align: left;\">GUCUUAUACUGAGCGGGGAGGGACAGGCCCUGUGAACCCGCGGCAACCUCCCAUAUUGGACAGGUGCUAAUUCCCACAGGGCAAGUGGCCCUGAGAGAUAAGAU</td><td style = \"text-align: right;\">-280.75</td><td style = \"text-align: left;\">unlikely</td></tr><tr><td class = \"rowNumber\" style = \"font-weight: bold; text-align: right;\">2</td><td style = \"text-align: left;\">UUUUU----AGAGUAGCGGAGGGAUUGGCCCGAUGAAGCUACGGCAACCUCCUC----CAAGGAAAGGUGCCAAAUCUAGCGGAUAGUGAACAUCCGAAA---AAGAU</td><td style = \"text-align: left;\">infernal</td><td style = \"text-align: left;\">uniform</td><td style = \"text-align: left;\">UUUUUAGAGUAGCGGAGGGAUUGGCCCGAUGAAGCUACGGCAACCUCCUCCAAGGAAAGGUGCCAAAUCUAGCGGAUAGUGAACAUCCGAAAAAGAU</td><td style = \"text-align: right;\">-256.103</td><td style = \"text-align: left;\">unlikely</td></tr><tr><td class = \"rowNumber\" style = \"font-weight: bold; text-align: right;\">3</td><td style = \"text-align: left;\">CCCUCAUCAAGAAUGGUGGAGGGACUGGCCCUAUGAAACC-UAGCAACCCCCGGAU----CGGGAGGGUGCUAAUUCCAGUCCCAU-----AUGGGCAGAGAUGAGGA</td><td style = \"text-align: left;\">infernal</td><td style = \"text-align: left;\">uniform</td><td style = \"text-align: left;\">CCCUCAUCAAGAAUGGUGGAGGGACUGGCCCUAUGAAACCUAGCAACCCCCGGAUCGGGAGGGUGCUAAUUCCAGUCCCAUAUGGGCAGAGAUGAGGA</td><td style = \"text-align: right;\">-291.729</td><td style = \"text-align: left;\">unlikely</td></tr><tr><td class = \"rowNumber\" style = \"font-weight: bold; text-align: right;\">4</td><td style = \"text-align: left;\">UAGUCAUCCAGAGAGACAGAGGGACUGGACCAAUGAUGUCUCGGCAACGGCGCCACAUACGCGCACUGUGCCAACUCCUACAUGA-GUGUG-UCAUGACAGAUGAACU</td><td style = \"text-align: left;\">infernal</td><td style = \"text-align: left;\">uniform</td><td style = \"text-align: left;\">UAGUCAUCCAGAGAGACAGAGGGACUGGACCAAUGAUGUCUCGGCAACGGCGCCACAUACGCGCACUGUGCCAACUCCUACAUGAGUGUGUCAUGACAGAUGAACU</td><td style = \"text-align: right;\">-264.951</td><td style = \"text-align: left;\">unlikely</td></tr><tr><td class = \"rowNumber\" style = \"font-weight: bold; text-align: right;\">5</td><td style = \"text-align: left;\">CACUUAUAAAGAGACGCGGAGGGACAGGCCCAAUGAAGCG-CGCCAACCCUCAUAAU-GUUGAGAAGGUGGUGAUUCCUGCG------AAA----CGAAAUAUAAGGG</td><td style = \"text-align: left;\">infernal</td><td style = \"text-align: left;\">uniform</td><td style = \"text-align: left;\">CACUUAUAAAGAGACGCGGAGGGACAGGCCCAAUGAAGCGCGCCAACCCUCAUAAUGUUGAGAAGGUGGUGAUUCCUGCGAAACGAAAUAUAAGGG</td><td style = \"text-align: right;\">-272.795</td><td style = \"text-align: left;\">unlikely</td></tr><tr><td class = \"rowNumber\" style = \"font-weight: bold; text-align: right;\">6</td><td style = \"text-align: left;\">UUUUUAUCAAGAGCGGUGGAGGGAUUUGCCCUUUGAAACC-CGGCAACCUGCAGGCU---UGUUAAGGUGCUAACUCCGGUAAACUGAGAAAGUUUACAAGAUAAGAA</td><td style = \"text-align: left;\">infernal</td><td style = \"text-align: left;\">uniform</td><td style = \"text-align: left;\">UUUUUAUCAAGAGCGGUGGAGGGAUUUGCCCUUUGAAACCCGGCAACCUGCAGGCUUGUUAAGGUGCUAACUCCGGUAAACUGAGAAAGUUUACAAGAUAAGAA</td><td style = \"text-align: right;\">-286.749</td><td style = \"text-align: left;\">unlikely</td></tr><tr><td class = \"rowNumber\" style = \"font-weight: bold; text-align: right;\">7</td><td style = \"text-align: left;\">CGGUCAUCCAGAGAAACCAAGGGAAAGGCCCGAUGAAGUUUCGGCAACCCGAAAUUCAGCUUUGUAGGUGCUAACUCCAGCACGAC--AGGUUCGUGGGAGAUGACGG</td><td style = \"text-align: left;\">infernal</td><td style = \"text-align: left;\">uniform</td><td style = \"text-align: left;\">CGGUCAUCCAGAGAAACCAAGGGAAAGGCCCGAUGAAGUUUCGGCAACCCGAAAUUCAGCUUUGUAGGUGCUAACUCCAGCACGACAGGUUCGUGGGAGAUGACGG</td><td style = \"text-align: right;\">-273.175</td><td style = \"text-align: left;\">unlikely</td></tr><tr><td class = \"rowNumber\" style = \"font-weight: bold; text-align: right;\">8</td><td style = \"text-align: left;\">AUCUUAUCGCGAGCAGUUGAGGGAUUGGCCCGGUGAAGCU-CGGCAACCUCUUAACCUACGAGAAAGGUGCUAAUUCCAG------------------GAGAUAAGAU</td><td style = \"text-align: left;\">infernal</td><td style = \"text-align: left;\">uniform</td><td style = \"text-align: left;\">AUCUUAUCGCGAGCAGUUGAGGGAUUGGCCCGGUGAAGCUCGGCAACCUCUUAACCUACGAGAAAGGUGCUAAUUCCAGGAGAUAAGAU</td><td style = \"text-align: right;\">-305.485</td><td style = \"text-align: left;\">maybe</td></tr><tr><td class = \"rowNumber\" style = \"font-weight: bold; text-align: right;\">9</td><td style = \"text-align: left;\">UACCUAUUCAGAGCGGCGGAGGGACUGGCUCUAUGAUACC-CGGCAACGGCAAGAAAAAAUUGCA-CGUGCUACAUUCGGCCCGUUUGGAUUGCGGGAGAAAUAGGGA</td><td style = \"text-align: left;\">infernal</td><td style = \"text-align: left;\">uniform</td><td style = \"text-align: left;\">UACCUAUUCAGAGCGGCGGAGGGACUGGCUCUAUGAUACCCGGCAACGGCAAGAAAAAAUUGCACGUGCUACAUUCGGCCCGUUUGGAUUGCGGGAGAAAUAGGGA</td><td style = \"text-align: right;\">-246.626</td><td style = \"text-align: left;\">unlikely</td></tr><tr><td class = \"rowNumber\" style = \"font-weight: bold; text-align: right;\">10</td><td style = \"text-align: left;\">CUAUCAUCAAGAGGUGGAGAGGGACUGGCCCCAUGAACCACCGGCAACCUCGCUCU----GCG-CAGGUGCCAAUUUCGGCCAGAUGCGAUAAGUGGAAAGAUGAAAG</td><td style = \"text-align: left;\">infernal</td><td style = \"text-align: left;\">uniform</td><td style = \"text-align: left;\">CUAUCAUCAAGAGGUGGAGAGGGACUGGCCCCAUGAACCACCGGCAACCUCGCUCUGCGCAGGUGCCAAUUUCGGCCAGAUGCGAUAAGUGGAAAGAUGAAAG</td><td style = \"text-align: right;\">-274.344</td><td style = \"text-align: left;\">unlikely</td></tr><tr><td class = \"rowNumber\" style = \"font-weight: bold; text-align: right;\">11</td><td style = \"text-align: left;\">CUAUCAUCAAGAGAAGUUGAGGGAAUGGCCCGAUGAUGCUUCGGCAACCUCUUGCACAUGCAGACUGGUGCUAAUUCGUGCAAAAUGUU--AUUUUGGAUGAUGAAAU</td><td style = \"text-align: left;\">infernal</td><td style = \"text-align: left;\">uniform</td><td style = \"text-align: left;\">CUAUCAUCAAGAGAAGUUGAGGGAAUGGCCCGAUGAUGCUUCGGCAACCUCUUGCACAUGCAGACUGGUGCUAAUUCGUGCAAAAUGUUAUUUUGGAUGAUGAAAU</td><td style = \"text-align: right;\">-276.715</td><td style = \"text-align: left;\">unlikely</td></tr><tr><td class = \"rowNumber\" style = \"font-weight: bold; text-align: right;\">12</td><td style = \"text-align: left;\">GGCUUAUCAAGAGAGGCCGAGAGACUUGCUCUAUGAAGCCUCGGCAACCUUCCGUG---AGGAAUAGGUGCUAAAUCGGAGACCCCUAUAAUCGGUCGAAGAUGAGGU</td><td style = \"text-align: left;\">infernal</td><td style = \"text-align: left;\">uniform</td><td style = \"text-align: left;\">GGCUUAUCAAGAGAGGCCGAGAGACUUGCUCUAUGAAGCCUCGGCAACCUUCCGUGAGGAAUAGGUGCUAAAUCGGAGACCCCUAUAAUCGGUCGAAGAUGAGGU</td><td style = \"text-align: right;\">-260.113</td><td style = \"text-align: left;\">unlikely</td></tr><tr><td class = \"rowNumber\" style = \"font-weight: bold; text-align: right;\">13</td><td style = \"text-align: left;\">AUCUCAUCCAGAGCGGUGGAGGGACUGGCCCUACGAAGCCGCAGCAACUCCUAAAACGAGUAGGAAGGUGCUAAAUCCUACAAAGCA-CAAGUUUUGAACGAUGAGAC</td><td style = \"text-align: left;\">infernal</td><td style = \"text-align: left;\">uniform</td><td style = \"text-align: left;\">AUCUCAUCCAGAGCGGUGGAGGGACUGGCCCUACGAAGCCGCAGCAACUCCUAAAACGAGUAGGAAGGUGCUAAAUCCUACAAAGCACAAGUUUUGAACGAUGAGAC</td><td style = \"text-align: right;\">-284.526</td><td style = \"text-align: left;\">unlikely</td></tr><tr><td style = \"text-align: right;\">&vellip;</td><td style = \"text-align: right;\">&vellip;</td><td style = \"text-align: right;\">&vellip;</td><td style = \"text-align: right;\">&vellip;</td><td style = \"text-align: right;\">&vellip;</td><td style = \"text-align: right;\">&vellip;</td><td style = \"text-align: right;\">&vellip;</td></tr><tr><td class = \"rowNumber\" style = \"font-weight: bold; text-align: right;\">439</td><td style = \"text-align: left;\">AAGCCAUCCAGAGCGGCCGAGAGACUGGCUCGACGACGCCGCAGCAACCCGGUUAC----GGCGAGGGUGCUAACGCCAGGACCGAUGGAGA--G---C---------</td><td style = \"text-align: left;\">rbm</td><td style = \"text-align: left;\">fold</td><td style = \"text-align: left;\">AAGCCAUCCAGAGCGGCCGAGAGACUGGCUCGACGACGCCGCAGCAACCCGGUUACGGCGAGGGUGCUAACGCCAGGACCGAUGGAGAGC</td><td style = \"text-align: right;\">-325.119</td><td style = \"text-align: left;\">likely</td></tr><tr><td class = \"rowNumber\" style = \"font-weight: bold; text-align: right;\">440</td><td style = \"text-align: left;\">AUGCUAUGCAGAGAGGGUGAGGGACGAGCCCAAUGACCCCUCGGCAACCUGCAAAU---ACGUGU-GGUGCCAAUGCUCGAUCGUUUAGAAA----------------</td><td style = \"text-align: left;\">rbm</td><td style = \"text-align: left;\">fold</td><td style = \"text-align: left;\">AUGCUAUGCAGAGAGGGUGAGGGACGAGCCCAAUGACCCCUCGGCAACCUGCAAAUACGUGUGGUGCCAAUGCUCGAUCGUUUAGAAA</td><td style = \"text-align: right;\">-303.987</td><td style = \"text-align: left;\">maybe</td></tr><tr><td class = \"rowNumber\" style = \"font-weight: bold; text-align: right;\">441</td><td style = \"text-align: left;\">UUCUUAUAUAGAAGUAGGUAAGAACAUAUC-GAAAAUCUGUUGACAGCGUUAAGGGAAGUUUAAAAUGUGUCGGAUUAUAUCGGUUCAAUAAUCCGAAAAAAUAUGGU</td><td style = \"text-align: left;\">rbm</td><td style = \"text-align: left;\">fold</td><td style = \"text-align: left;\">UUCUUAUAUAGAAGUAGGUAAGAACAUAUCGAAAAUCUGUUGACAGCGUUAAGGGAAGUUUAAAAUGUGUCGGAUUAUAUCGGUUCAAUAAUCCGAAAAAAUAUGGU</td><td style = \"text-align: right;\">-303.618</td><td style = \"text-align: left;\">maybe</td></tr><tr><td class = \"rowNumber\" style = \"font-weight: bold; text-align: right;\">442</td><td style = \"text-align: left;\">CGACCAUCGAGAGAGACGGAGGGACAGGCCCGGUGAAAUCUCAGCAACCUACGUGAAUACCGUAAAGGUGCUAAUUCCUGAAAGACGGAAA-----------------</td><td style = \"text-align: left;\">rbm</td><td style = \"text-align: left;\">fold</td><td style = \"text-align: left;\">CGACCAUCGAGAGAGACGGAGGGACAGGCCCGGUGAAAUCUCAGCAACCUACGUGAAUACCGUAAAGGUGCUAAUUCCUGAAAGACGGAAA</td><td style = \"text-align: right;\">-313.473</td><td style = \"text-align: left;\">maybe</td></tr><tr><td class = \"rowNumber\" style = \"font-weight: bold; text-align: right;\">443</td><td style = \"text-align: left;\">GCCCCAUCCAGAGCGGCAGAGAGACUGGCUCUAUGACGCCGCAGCAACCUUCCUACCCUGGGCGAGGGUGCUAACGCCAGGGUCGCGGGAGG----------------</td><td style = \"text-align: left;\">rbm</td><td style = \"text-align: left;\">fold</td><td style = \"text-align: left;\">GCCCCAUCCAGAGCGGCAGAGAGACUGGCUCUAUGACGCCGCAGCAACCUUCCUACCCUGGGCGAGGGUGCUAACGCCAGGGUCGCGGGAGG</td><td style = \"text-align: right;\">-312.675</td><td style = \"text-align: left;\">maybe</td></tr><tr><td class = \"rowNumber\" style = \"font-weight: bold; text-align: right;\">444</td><td style = \"text-align: left;\">CUACCAUUUAGAGAGGUGGAGGGACUAGCGCUGUGAAACC-CAGCAACCUGCUA------AGCGUUGGUGCCAAUGCUAGAGCCACGAGAGGA---------------</td><td style = \"text-align: left;\">rbm</td><td style = \"text-align: left;\">fold</td><td style = \"text-align: left;\">CUACCAUUUAGAGAGGUGGAGGGACUAGCGCUGUGAAACCCAGCAACCUGCUAAGCGUUGGUGCCAAUGCUAGAGCCACGAGAGGA</td><td style = \"text-align: right;\">-306.958</td><td style = \"text-align: left;\">maybe</td></tr><tr><td class = \"rowNumber\" style = \"font-weight: bold; text-align: right;\">445</td><td style = \"text-align: left;\">CACCCAUCAAGAGAAGGCGAGAGACAAGCUCUAUGACCCUUCAGCAACCUGCUGUU----UGCAAAGGUGCUAACGCUUGAUAGAUUGCGG--C--------------</td><td style = \"text-align: left;\">rbm</td><td style = \"text-align: left;\">fold</td><td style = \"text-align: left;\">CACCCAUCAAGAGAAGGCGAGAGACAAGCUCUAUGACCCUUCAGCAACCUGCUGUUUGCAAAGGUGCUAACGCUUGAUAGAUUGCGGC</td><td style = \"text-align: right;\">-310.597</td><td style = \"text-align: left;\">maybe</td></tr><tr><td class = \"rowNumber\" style = \"font-weight: bold; text-align: right;\">446</td><td style = \"text-align: left;\">CACUUGUUCAGAACAGUGAAGACGAUUGUUCAUUUAAACUGUGCCAACAGGAACCUAUGAUUACAC----U----C----U-CGCCAAA-UGGCGUCUAUAUCAGGCU</td><td style = \"text-align: left;\">rbm</td><td style = \"text-align: left;\">fold</td><td style = \"text-align: left;\">CACUUGUUCAGAACAGUGAAGACGAUUGUUCAUUUAAACUGUGCCAACAGGAACCUAUGAUUACACUCUCGCCAAAUGGCGUCUAUAUCAGGCU</td><td style = \"text-align: right;\">-300.279</td><td style = \"text-align: left;\">maybe</td></tr><tr><td class = \"rowNumber\" style = \"font-weight: bold; text-align: right;\">447</td><td style = \"text-align: left;\">AUACCAUCCAGAGAGACUUAGGGACAGGCCCUUUGAUGUCUCAGCAACCUCCAUUGUUAUUGG-UAGGUGCUAAUUCCAGAAUGAUGGGG------------U-----</td><td style = \"text-align: left;\">rbm</td><td style = \"text-align: left;\">fold</td><td style = \"text-align: left;\">AUACCAUCCAGAGAGACUUAGGGACAGGCCCUUUGAUGUCUCAGCAACCUCCAUUGUUAUUGGUAGGUGCUAAUUCCAGAAUGAUGGGGU</td><td style = \"text-align: right;\">-303.79</td><td style = \"text-align: left;\">maybe</td></tr><tr><td class = \"rowNumber\" style = \"font-weight: bold; text-align: right;\">448</td><td style = \"text-align: left;\">UUAUUAUCAAGAGAGGUUGAGGGACAGGCCCUGAGAAUCCUCAGCAACCUUUUAAA----AAAGCAUGUGCUAAUUCCUG-----------------GAAGAUGAAAA</td><td style = \"text-align: left;\">rbm</td><td style = \"text-align: left;\">fold</td><td style = \"text-align: left;\">UUAUUAUCAAGAGAGGUUGAGGGACAGGCCCUGAGAAUCCUCAGCAACCUUUUAAAAAAGCAUGUGCUAAUUCCUGGAAGAUGAAAA</td><td style = \"text-align: right;\">-310.283</td><td style = \"text-align: left;\">maybe</td></tr><tr><td class = \"rowNumber\" style = \"font-weight: bold; text-align: right;\">449</td><td style = \"text-align: left;\">CAACUAUCCAGAGCGGCCGAGAGACUGGCUCGAUGACGCCGCAGCAACCCAUGAUCGACACACG-GGGUGCUUCCGCCAGGA-CGAUGGAGUC---------------</td><td style = \"text-align: left;\">rbm</td><td style = \"text-align: left;\">fold</td><td style = \"text-align: left;\">CAACUAUCCAGAGCGGCCGAGAGACUGGCUCGAUGACGCCGCAGCAACCCAUGAUCGACACACGGGGUGCUUCCGCCAGGACGAUGGAGUC</td><td style = \"text-align: right;\">-311.869</td><td style = \"text-align: left;\">maybe</td></tr><tr><td class = \"rowNumber\" style = \"font-weight: bold; text-align: right;\">450</td><td style = \"text-align: left;\">AAACCAUCCAGAGCGGCUGAGAGACUGGCUCGACGACGCCGCAGCAACCUACCCUU----GGCGACGGUGCUUACGCCAGGACCAAUGGAGC----------------</td><td style = \"text-align: left;\">rbm</td><td style = \"text-align: left;\">fold</td><td style = \"text-align: left;\">AAACCAUCCAGAGCGGCUGAGAGACUGGCUCGACGACGCCGCAGCAACCUACCCUUGGCGACGGUGCUUACGCCAGGACCAAUGGAGC</td><td style = \"text-align: right;\">-325.368</td><td style = \"text-align: left;\">likely</td></tr></tbody></table></div>"
      ],
      "text/latex": [
       "\\begin{tabular}{r|cc}\n",
       "\t& aligned\\_sequence & \\\\\n",
       "\t\\hline\n",
       "\t& String & \\\\\n",
       "\t\\hline\n",
       "\t1 & GUCUUAUACUGAGCGGG-GAGGGACAGGCCCUGUGAACCCGCGGCAACCUCCCAUA---UUGGACAGGUGCUAAUUCCCACAGGGCAAGUGGCCCUGAGAGAUAAGAU & $\\dots$ \\\\\n",
       "\t2 & UUUUU----AGAGUAGCGGAGGGAUUGGCCCGAUGAAGCUACGGCAACCUCCUC----CAAGGAAAGGUGCCAAAUCUAGCGGAUAGUGAACAUCCGAAA---AAGAU & $\\dots$ \\\\\n",
       "\t3 & CCCUCAUCAAGAAUGGUGGAGGGACUGGCCCUAUGAAACC-UAGCAACCCCCGGAU----CGGGAGGGUGCUAAUUCCAGUCCCAU-----AUGGGCAGAGAUGAGGA & $\\dots$ \\\\\n",
       "\t4 & UAGUCAUCCAGAGAGACAGAGGGACUGGACCAAUGAUGUCUCGGCAACGGCGCCACAUACGCGCACUGUGCCAACUCCUACAUGA-GUGUG-UCAUGACAGAUGAACU & $\\dots$ \\\\\n",
       "\t5 & CACUUAUAAAGAGACGCGGAGGGACAGGCCCAAUGAAGCG-CGCCAACCCUCAUAAU-GUUGAGAAGGUGGUGAUUCCUGCG------AAA----CGAAAUAUAAGGG & $\\dots$ \\\\\n",
       "\t6 & UUUUUAUCAAGAGCGGUGGAGGGAUUUGCCCUUUGAAACC-CGGCAACCUGCAGGCU---UGUUAAGGUGCUAACUCCGGUAAACUGAGAAAGUUUACAAGAUAAGAA & $\\dots$ \\\\\n",
       "\t7 & CGGUCAUCCAGAGAAACCAAGGGAAAGGCCCGAUGAAGUUUCGGCAACCCGAAAUUCAGCUUUGUAGGUGCUAACUCCAGCACGAC--AGGUUCGUGGGAGAUGACGG & $\\dots$ \\\\\n",
       "\t8 & AUCUUAUCGCGAGCAGUUGAGGGAUUGGCCCGGUGAAGCU-CGGCAACCUCUUAACCUACGAGAAAGGUGCUAAUUCCAG------------------GAGAUAAGAU & $\\dots$ \\\\\n",
       "\t9 & UACCUAUUCAGAGCGGCGGAGGGACUGGCUCUAUGAUACC-CGGCAACGGCAAGAAAAAAUUGCA-CGUGCUACAUUCGGCCCGUUUGGAUUGCGGGAGAAAUAGGGA & $\\dots$ \\\\\n",
       "\t10 & CUAUCAUCAAGAGGUGGAGAGGGACUGGCCCCAUGAACCACCGGCAACCUCGCUCU----GCG-CAGGUGCCAAUUUCGGCCAGAUGCGAUAAGUGGAAAGAUGAAAG & $\\dots$ \\\\\n",
       "\t11 & CUAUCAUCAAGAGAAGUUGAGGGAAUGGCCCGAUGAUGCUUCGGCAACCUCUUGCACAUGCAGACUGGUGCUAAUUCGUGCAAAAUGUU--AUUUUGGAUGAUGAAAU & $\\dots$ \\\\\n",
       "\t12 & GGCUUAUCAAGAGAGGCCGAGAGACUUGCUCUAUGAAGCCUCGGCAACCUUCCGUG---AGGAAUAGGUGCUAAAUCGGAGACCCCUAUAAUCGGUCGAAGAUGAGGU & $\\dots$ \\\\\n",
       "\t13 & AUCUCAUCCAGAGCGGUGGAGGGACUGGCCCUACGAAGCCGCAGCAACUCCUAAAACGAGUAGGAAGGUGCUAAAUCCUACAAAGCA-CAAGUUUUGAACGAUGAGAC & $\\dots$ \\\\\n",
       "\t14 & CUCUUAUCAAGAGGGGUGGAGGGAAAGGCCCUUUGAAACCCCAGCAACCUGGCUCAACCAGCUGAGGGUGCUAAAUCCUGCCGAAGGGUGAGUUCGGAAAGAUAAAAG & $\\dots$ \\\\\n",
       "\t15 & GACUUAUCAAGAGUAGUGGAGGGAUUGGCCCUUUGAAGCUACGGCAACCUAUGAAAUAUCCAUUAAGGUGCCAACUCCCGCCAAAUUUGAACGUUGGGAAGAUGAGAA & $\\dots$ \\\\\n",
       "\t16 & AACUUAAACAGAGAGGGGGAGAGACCGGCUCGAUGACCCC-CAGCAACCCAUUUCAAUGAAGUGAAGGUGCUAAUUCCAGCUACGC-----GCGUAGGUAGAUAAGAG & $\\dots$ \\\\\n",
       "\t17 & UACUCAUAUAGAGAUAGGGAGGGACUGACCCGUUGAACUAUCGGCAACCGUCUGAC----AGAAAUGGUGCCAAUUUUAG-------C-----------AUAUGAGUG & $\\dots$ \\\\\n",
       "\t18 & CUCUUAUCAAGAGAGGGGUAGGGUCUAGCCCGAUGAACCCUCAGCAACCACAUGUU---CUUGUAAGGUGCUACUUCCUGCCGUU----UAAAUCGGAAAGAUAAGUG & $\\dots$ \\\\\n",
       "\t19 & UUUUUAUCAAGAGGGGGGGAGGGACCGGCCCGAUGAACCCCCGGCAACCUCGCGGCACAGGCGAUAGGUGCCAAAUCCUACUCCAA-AGAUUUGGAGGAAGAUAAUAA & $\\dots$ \\\\\n",
       "\t20 & CACCUAUCAAGAGGAUGCGAGGGACAGGCCCUGUGAACAUCCGACAACCCCUACUUCUGGUAGGAGGGUGCCACUUCCAUCUACGA---UUUCGUAGAAAGAUAGGAG & $\\dots$ \\\\\n",
       "\t21 & AACUUAUCAAGAAAGGUGGAGGGACAGGCCCUUUGAAACCUUAGCAACCAACAUUCUUGGUGU-UUGGUGCUAAGUCCAGCAGGCCUGGAAGGACUGAGAGAUAUGCC & $\\dots$ \\\\\n",
       "\t22 & AAAUCAUCCAGAGGGGUGGAGGGAAAGGCCCAAUGAAACCCCGGCAACCGCCA-----UUUGGGAUGGUGCUUACACCAGCAGGCAA---GUGCCUGAAU-------- & $\\dots$ \\\\\n",
       "\t23 & UACUUAUCCAGAGACGCCGAGGAACUAGUCCGAUGAGGCGUCAGCAACCACUCCUUA-UGGAGACCGGUGCUAGUUCCAACCGAAA----AUUUCGGAAAGAUAAGAA & $\\dots$ \\\\\n",
       "\t24 & GGUCUAUUAGGAGAGCGUGAGGGACCGGCCCAAUGAACGC-CGGCAACCUCGCACGCGGGUCG-AAGGUGCUAACUCCAAGACAAU-----GUUGUCAAAGAUAGGCU & $\\dots$ \\\\\n",
       "\t$\\dots$ & $\\dots$ &  \\\\\n",
       "\\end{tabular}\n"
      ],
      "text/plain": [
       "\u001b[1m450×6 DataFrame\u001b[0m\n",
       "\u001b[1m Row \u001b[0m│\u001b[1m aligned_sequence                  \u001b[0m\u001b[1m origin   \u001b[0m\u001b[1m criteria \u001b[0m\u001b[1m sequence        \u001b[0m ⋯\n",
       "     │\u001b[90m String                            \u001b[0m\u001b[90m String15 \u001b[0m\u001b[90m String7  \u001b[0m\u001b[90m String          \u001b[0m ⋯\n",
       "─────┼──────────────────────────────────────────────────────────────────────────\n",
       "   1 │ GUCUUAUACUGAGCGGG-GAGGGACAGGCCCU…  infernal  uniform   GUCUUAUACUGAGCGG ⋯\n",
       "   2 │ UUUUU----AGAGUAGCGGAGGGAUUGGCCCG…  infernal  uniform   UUUUUAGAGUAGCGGA\n",
       "   3 │ CCCUCAUCAAGAAUGGUGGAGGGACUGGCCCU…  infernal  uniform   CCCUCAUCAAGAAUGG\n",
       "   4 │ UAGUCAUCCAGAGAGACAGAGGGACUGGACCA…  infernal  uniform   UAGUCAUCCAGAGAGA\n",
       "   5 │ CACUUAUAAAGAGACGCGGAGGGACAGGCCCA…  infernal  uniform   CACUUAUAAAGAGACG ⋯\n",
       "   6 │ UUUUUAUCAAGAGCGGUGGAGGGAUUUGCCCU…  infernal  uniform   UUUUUAUCAAGAGCGG\n",
       "   7 │ CGGUCAUCCAGAGAAACCAAGGGAAAGGCCCG…  infernal  uniform   CGGUCAUCCAGAGAAA\n",
       "   8 │ AUCUUAUCGCGAGCAGUUGAGGGAUUGGCCCG…  infernal  uniform   AUCUUAUCGCGAGCAG\n",
       "  ⋮  │                 ⋮                     ⋮         ⋮                       ⋱\n",
       " 444 │ CUACCAUUUAGAGAGGUGGAGGGACUAGCGCU…  rbm       fold      CUACCAUUUAGAGAGG ⋯\n",
       " 445 │ CACCCAUCAAGAGAAGGCGAGAGACAAGCUCU…  rbm       fold      CACCCAUCAAGAGAAG\n",
       " 446 │ CACUUGUUCAGAACAGUGAAGACGAUUGUUCA…  rbm       fold      CACUUGUUCAGAACAG\n",
       " 447 │ AUACCAUCCAGAGAGACUUAGGGACAGGCCCU…  rbm       fold      AUACCAUCCAGAGAGA\n",
       " 448 │ UUAUUAUCAAGAGAGGUUGAGGGACAGGCCCU…  rbm       fold      UUAUUAUCAAGAGAGG ⋯\n",
       " 449 │ CAACUAUCCAGAGCGGCCGAGAGACUGGCUCG…  rbm       fold      CAACUAUCCAGAGCGG\n",
       " 450 │ AAACCAUCCAGAGCGGCUGAGAGACUGGCUCG…  rbm       fold      AAACCAUCCAGAGCGG\n",
       "\u001b[36m                                                  3 columns and 435 rows omitted\u001b[0m"
      ]
     },
     "metadata": {},
     "output_type": "display_data"
    }
   ],
   "source": [
    "SamApp2024.designed_sequences_20230317()"
   ]
  },
  {
   "cell_type": "code",
   "execution_count": 7,
   "metadata": {},
   "outputs": [
    {
     "data": {
      "text/plain": [
       "306-element Vector{String}:\n",
       " \"APSAMN1\"\n",
       " \"APSAMN2\"\n",
       " \"APSAMN3\"\n",
       " \"APSAMN4\"\n",
       " \"APSAMN5\"\n",
       " \"APSAMN6\"\n",
       " \"APSAMN7\"\n",
       " \"APSAMN8\"\n",
       " \"APSAMN9\"\n",
       " \"APSAMN10\"\n",
       " ⋮\n",
       " \"APSAMS92\"\n",
       " \"APSAMS93\"\n",
       " \"APSAMS94\"\n",
       " \"APSAMS95\"\n",
       " \"APSAMS96\"\n",
       " \"APSAMS97\"\n",
       " \"APSAMS98\"\n",
       " \"APSAMS99\"\n",
       " \"APSAMS100\""
      ]
     },
     "metadata": {},
     "output_type": "display_data"
    }
   ],
   "source": [
    "shape_data_2023.aptamer_names"
   ]
  },
  {
   "cell_type": "code",
   "execution_count": 3,
   "metadata": {},
   "outputs": [
    {
     "data": {
      "text/html": [
       "<div><div style = \"float: left;\"><span>487×9 DataFrame</span></div><div style = \"float: right;\"><span style = \"font-style: italic;\">462 rows omitted</span></div><div style = \"clear: both;\"></div></div><div class = \"data-frame\" style = \"overflow-x: scroll;\"><table class = \"data-frame\" style = \"margin-bottom: 6px;\"><thead><tr class = \"header\"><th class = \"rowNumber\" style = \"font-weight: bold; text-align: right;\">Row</th><th style = \"text-align: left;\">description</th><th style = \"text-align: left;\">id</th><th style = \"text-align: left;\">name</th><th style = \"text-align: left;\">sequence</th><th style = \"text-align: left;\">tag</th><th style = \"text-align: left;\">primer</th><th style = \"text-align: left;\">sequence_tag_primer</th><th style = \"text-align: left;\">t7_sequence_tag_primer</th><th style = \"text-align: left;\">aligned_sequence</th></tr><tr class = \"subheader headerLastRow\"><th class = \"rowNumber\" style = \"font-weight: bold; text-align: right;\"></th><th title = \"Missing\" style = \"text-align: left;\">Missing</th><th title = \"Missing\" style = \"text-align: left;\">Missing</th><th title = \"InlineStrings.String15\" style = \"text-align: left;\">String15</th><th title = \"String\" style = \"text-align: left;\">String</th><th title = \"InlineStrings.String15\" style = \"text-align: left;\">String15</th><th title = \"InlineStrings.String31\" style = \"text-align: left;\">String31</th><th title = \"String\" style = \"text-align: left;\">String</th><th title = \"String\" style = \"text-align: left;\">String</th><th title = \"Union{Missing, String}\" style = \"text-align: left;\">String?</th></tr></thead><tbody><tr><td class = \"rowNumber\" style = \"font-weight: bold; text-align: right;\">1</td><td style = \"font-style: italic; text-align: right;\">missing</td><td style = \"font-style: italic; text-align: right;\">missing</td><td style = \"text-align: left;\">APSAMN3</td><td style = \"text-align: left;\">CUCUUAUUAUGAGUGGAGCGAGGGAUUUGGCCCUGGGACCUCCCGGCAACCAUCGAGCUAAGCUCGAUAUGGUGCCCAUUCCAUCCCCGUUGAGUAACGGGGCAGAUAAGAA</td><td style = \"text-align: left;\">AACGGAAGAA</td><td style = \"text-align: left;\">CCAGCAGCCGCGGTAATACG</td><td style = \"text-align: left;\">CTCTTATTATGAGTGGAGCGAGGGATTTGGCCCTGGGACCTCCCGGCAACCATCGAGCTAAGCTCGATATGGTGCCCATTCCATCCCCGTTGAGTAACGGGGCAGATAAGAAAACGGAAGAACCAGCAGCCGCGGTAATACG</td><td style = \"text-align: left;\">CGGCGAATCTAATACGACTCACTATAGGCTCTTATTATGAGTGGAGCGAGGGATTTGGCCCTGGGACCTCCCGGCAACCATCGAGCTAAGCTCGATATGGTGCCCATTCCATCCCCGTTGAGTAACGGGGCAGATAAGAAAACGGAAGAACCAGCAGCCGCGGTAATACG</td><td style = \"text-align: left;\">CUCUUAUUAUGAGGGAGCGAGGGAUUGGCCCUGGGACCUCCCGGCAACCAUCGAGCUACUCGAUAUGGUGCCCAUUCCAUCCCCGUUGAGUAACGGGGCAGAUAAGAA</td></tr><tr><td class = \"rowNumber\" style = \"font-weight: bold; text-align: right;\">2</td><td style = \"font-style: italic; text-align: right;\">missing</td><td style = \"font-style: italic; text-align: right;\">missing</td><td style = \"text-align: left;\">APSAMN7</td><td style = \"text-align: left;\">ACCUUAUCCAGAGUGACCGAGGGACUUGGCCCGGUGACGUCACAGCAACCCUUGUCCCGCCAAACUUAGUAGGCGGAUCAACACGGUGCUACCUCCAACCCCAUAGUUCCAAGCGAUUAAUCGUUUUUUAUGGGGGGAAGAUAAGAA</td><td style = \"text-align: left;\">CCGCGAAGAA</td><td style = \"text-align: left;\">CCAGCAGCCGCGGTAATACG</td><td style = \"text-align: left;\">ACCTTATCCAGAGTGACCGAGGGACTTGGCCCGGTGACGTCACAGCAACCCTTGTCCCGCCAAACTTAGTAGGCGGATCAACACGGTGCTACCTCCAACCCCATAGTTCCAAGCGATTAATCGTTTTTTATGGGGGGAAGATAAGAACCGCGAAGAACCAGCAGCCGCGGTAATACG</td><td style = \"text-align: left;\">CGGCGAATCTAATACGACTCACTATAGGACCTTATCCAGAGTGACCGAGGGACTTGGCCCGGTGACGTCACAGCAACCCTTGTCCCGCCAAACTTAGTAGGCGGATCAACACGGTGCTACCTCCAACCCCATAGTTCCAAGCGATTAATCGTTTTTTATGGGGGGAAGATAAGAACCGCGAAGAACCAGCAGCCGCGGTAATACG</td><td style = \"text-align: left;\">ACCUUAUCCAGAGUGACCGAGGGAUUGGCCCGGUGACGUCACAGCAACCCUUGUCCCGAUCAACACGGUGCUACCUCCAACCCCAUA-----GGGGGGAAGAUAAGAA</td></tr><tr><td class = \"rowNumber\" style = \"font-weight: bold; text-align: right;\">3</td><td style = \"font-style: italic; text-align: right;\">missing</td><td style = \"font-style: italic; text-align: right;\">missing</td><td style = \"text-align: left;\">APSAMN8</td><td style = \"text-align: left;\">UAACUAUAAAGAGAAGGGGAGAGACAAGCUCUAUGAACCUUCAGCAACUUACCUAACAAAGGCAAAGUGCUAAAGCUUGUAUGAUAGUGAAGGUUUUAAUUUUCAUAAAAAUAAUUA</td><td style = \"text-align: left;\">AGGTCAAGAA</td><td style = \"text-align: left;\">CCAGCAGCCGCGGTAATACG</td><td style = \"text-align: left;\">TAACTATAAAGAGAAGGGGAGAGACAAGCTCTATGAACCTTCAGCAACTTACCTAACAAAGGCAAAGTGCTAAAGCTTGTATGATAGTGAAGGTTTTAATTTTCATAAAAATAATTAAGGTCAAGAACCAGCAGCCGCGGTAATACG</td><td style = \"text-align: left;\">CGGCGAATCTAATACGACTCACTATAGGTAACTATAAAGAGAAGGGGAGAGACAAGCTCTATGAACCTTCAGCAACTTACCTAACAAAGGCAAAGTGCTAAAGCTTGTATGATAGTGAAGGTTTTAATTTTCATAAAAATAATTAAGGTCAAGAACCAGCAGCCGCGGTAATACG</td><td style = \"text-align: left;\">UAACUAUAAAGAGAAGGGGAGAGACAAGCUCUAUGAACCUUCAGCAACUUACCUAACAAAGGCAA-AGUGCUAAAGCUUGUAUGAUAGUG-UUCAUAAA-AAUAAUUA</td></tr><tr><td class = \"rowNumber\" style = \"font-weight: bold; text-align: right;\">4</td><td style = \"font-style: italic; text-align: right;\">missing</td><td style = \"font-style: italic; text-align: right;\">missing</td><td style = \"text-align: left;\">APSAMN9</td><td style = \"text-align: left;\">CACUCAUGACGAGGGUGCGAGGGACUUGGCCCGAUGACCACCCGGCAACCUGUGCAGGCGAGACGCCGUCAGCCAGCACAACGGUGCCAACCAGCCGCGACGGGAACGCGGGAACAUGAGGC</td><td style = \"text-align: left;\">GAGAAGAGAA</td><td style = \"text-align: left;\">CCAGCAGCCGCGGTAATACG</td><td style = \"text-align: left;\">CACTCATGACGAGGGTGCGAGGGACTTGGCCCGATGACCACCCGGCAACCTGTGCAGGCGAGACGCCGTCAGCCAGCACAACGGTGCCAACCAGCCGCGACGGGAACGCGGGAACATGAGGCGAGAAGAGAACCAGCAGCCGCGGTAATACG</td><td style = \"text-align: left;\">CGGCGAATCTAATACGACTCACTATAGGCACTCATGACGAGGGTGCGAGGGACTTGGCCCGATGACCACCCGGCAACCTGTGCAGGCGAGACGCCGTCAGCCAGCACAACGGTGCCAACCAGCCGCGACGGGAACGCGGGAACATGAGGCGAGAAGAGAACCAGCAGCCGCGGTAATACG</td><td style = \"text-align: left;\">CACUCAUGACGAGGGUGCGAGGGAUUGGCCCGAUGACCACCCGGCAACCUGUGCAGGCAGCACAACGGUGCCAA--CCAGCCGCGACGGGAACGCGGGAACAUGAGGC</td></tr><tr><td class = \"rowNumber\" style = \"font-weight: bold; text-align: right;\">5</td><td style = \"font-style: italic; text-align: right;\">missing</td><td style = \"font-style: italic; text-align: right;\">missing</td><td style = \"text-align: left;\">APSAMN12</td><td style = \"text-align: left;\">UAAUUAUCAAGAGUAGGCACGAGGGAACUAGCCCGUUAUUAGUGUCUCAGCAACCUGUCCGCCGUGGCGGAUAAGGUGCUACUUCUAGCUCCGCCUUGGGUGGAGAGAGAUAAUAU</td><td style = \"text-align: left;\">ACACTCAGAA</td><td style = \"text-align: left;\">CCAGCAGCCGCGGTAATACG</td><td style = \"text-align: left;\">TAATTATCAAGAGTAGGCACGAGGGAACTAGCCCGTTATTAGTGTCTCAGCAACCTGTCCGCCGTGGCGGATAAGGTGCTACTTCTAGCTCCGCCTTGGGTGGAGAGAGATAATATACACTCAGAACCAGCAGCCGCGGTAATACG</td><td style = \"text-align: left;\">CGGCGAATCTAATACGACTCACTATAGGTAATTATCAAGAGTAGGCACGAGGGAACTAGCCCGTTATTAGTGTCTCAGCAACCTGTCCGCCGTGGCGGATAAGGTGCTACTTCTAGCTCCGCCTTGGGTGGAGAGAGATAATATACACTCAGAACCAGCAGCCGCGGTAATACG</td><td style = \"text-align: left;\">UAAUUAUCAAGAGAGGCCGAGGGACUAGCCCGUUAUUGUCUCAGCAACCGUCCGCCGUGCGGAUAAGGUGCUACUUCUAGCUCCGCCUUGGGUGGAGAGAGAUAAUAU</td></tr><tr><td class = \"rowNumber\" style = \"font-weight: bold; text-align: right;\">6</td><td style = \"font-style: italic; text-align: right;\">missing</td><td style = \"font-style: italic; text-align: right;\">missing</td><td style = \"text-align: left;\">APSAMN14</td><td style = \"text-align: left;\">CUCUUAUUCAGAGUGGUGGAGGUACAUAGGACCUAUGAAACCACGGCAACCCCUUGAGUGAUCAGGAAGGUGCCAACCUGAGCGUGCAGUUCCCGAAUGGGAAUAUGAGAU</td><td style = \"text-align: left;\">GATCCAAGAA</td><td style = \"text-align: left;\">CCAGCAGCCGCGGTAATACG</td><td style = \"text-align: left;\">CTCTTATTCAGAGTGGTGGAGGTACATAGGACCTATGAAACCACGGCAACCCCTTGAGTGATCAGGAAGGTGCCAACCTGAGCGTGCAGTTCCCGAATGGGAATATGAGATGATCCAAGAACCAGCAGCCGCGGTAATACG</td><td style = \"text-align: left;\">CGGCGAATCTAATACGACTCACTATAGGCTCTTATTCAGAGTGGTGGAGGTACATAGGACCTATGAAACCACGGCAACCCCTTGAGTGATCAGGAAGGTGCCAACCTGAGCGTGCAGTTCCCGAATGGGAATATGAGATGATCCAAGAACCAGCAGCCGCGGTAATACG</td><td style = \"font-style: italic; text-align: left;\">missing</td></tr><tr><td class = \"rowNumber\" style = \"font-weight: bold; text-align: right;\">7</td><td style = \"font-style: italic; text-align: right;\">missing</td><td style = \"font-style: italic; text-align: right;\">missing</td><td style = \"text-align: left;\">APSAMN15</td><td style = \"text-align: left;\">GACCUAUGAAGAGUACGGAAGAGACAGGCUCGUCGCCGUACCGCAACCUGCAUACGCAAGGUGCGAAAUCCUGCGGGGAAACCCGGAAGAUAGGGA</td><td style = \"text-align: left;\">TCCACAAGAA</td><td style = \"text-align: left;\">CCAGCAGCCGCGGTAATACG</td><td style = \"text-align: left;\">GACCTATGAAGAGTACGGAAGAGACAGGCTCGTCGCCGTACCGCAACCTGCATACGCAAGGTGCGAAATCCTGCGGGGAAACCCGGAAGATAGGGATCCACAAGAACCAGCAGCCGCGGTAATACG</td><td style = \"text-align: left;\">CGGCGAATCTAATACGACTCACTATAGGGACCTATGAAGAGTACGGAAGAGACAGGCTCGTCGCCGTACCGCAACCTGCATACGCAAGGTGCGAAATCCTGCGGGGAAACCCGGAAGATAGGGATCCACAAGAACCAGCAGCCGCGGTAATACG</td><td style = \"text-align: left;\">GACCUAUGAAGAGUACGGAAGAGACAGGCUCGUCG-CCGUACCGCAACCUGCAUA-----CGCAA-GGUGCGAAAUCCUGCGGGG-----AAACCCGGAAGAUAGGGA</td></tr><tr><td class = \"rowNumber\" style = \"font-weight: bold; text-align: right;\">8</td><td style = \"font-style: italic; text-align: right;\">missing</td><td style = \"font-style: italic; text-align: right;\">missing</td><td style = \"text-align: left;\">APSAMN17</td><td style = \"text-align: left;\">AAAUUAUCAAGAAAGCCGGGGAGAGUAUUGGCUCAUUGAUCCGGUUAGCAACCAGUUUAGUUGCCCGUAACUAUUUAUUGGUAACUGAACGUGGUGCUCCAUCCAACCCGUUAACGCAUAAGCGGGAAAGAUAAGCU</td><td style = \"text-align: left;\">TACCTAGGAA</td><td style = \"text-align: left;\">CCAGCAGCCGCGGTAATACG</td><td style = \"text-align: left;\">AAATTATCAAGAAAGCCGGGGAGAGTATTGGCTCATTGATCCGGTTAGCAACCAGTTTAGTTGCCCGTAACTATTTATTGGTAACTGAACGTGGTGCTCCATCCAACCCGTTAACGCATAAGCGGGAAAGATAAGCTTACCTAGGAACCAGCAGCCGCGGTAATACG</td><td style = \"text-align: left;\">CGGCGAATCTAATACGACTCACTATAGGAAATTATCAAGAAAGCCGGGGAGAGTATTGGCTCATTGATCCGGTTAGCAACCAGTTTAGTTGCCCGTAACTATTTATTGGTAACTGAACGTGGTGCTCCATCCAACCCGTTAACGCATAAGCGGGAAAGATAAGCTTACCTAGGAACCAGCAGCCGCGGTAATACG</td><td style = \"text-align: left;\">AAAUUAUCAAGAACCGGGGAGAGUUUGGCUCAUUGAUCCGGUAGCAACCGUUUAGUUGCUGAACGUGGUGCUCCAUCCAACCCGUUAACGCAGCGGGAAAGAUAAGCU</td></tr><tr><td class = \"rowNumber\" style = \"font-weight: bold; text-align: right;\">9</td><td style = \"font-style: italic; text-align: right;\">missing</td><td style = \"font-style: italic; text-align: right;\">missing</td><td style = \"text-align: left;\">APSAMN21</td><td style = \"text-align: left;\">AUUUUACUAAGAAGAAGGGAGAGAAUAGGCUCGAUGAACUUCUGGCAACCUGUUUCCACCGACAAGGUGCUUGUCCUGCAUCAAUCUGAUAAAGCAUAGUAUCGUAUUGCAUAUUGAAAU</td><td style = \"text-align: left;\">CTTCTCACAA</td><td style = \"text-align: left;\">CCAGCAGCCGCGGTAATACG</td><td style = \"text-align: left;\">ATTTTACTAAGAAGAAGGGAGAGAATAGGCTCGATGAACTTCTGGCAACCTGTTTCCACCGACAAGGTGCTTGTCCTGCATCAATCTGATAAAGCATAGTATCGTATTGCATATTGAAATCTTCTCACAACCAGCAGCCGCGGTAATACG</td><td style = \"text-align: left;\">CGGCGAATCTAATACGACTCACTATAGGATTTTACTAAGAAGAAGGGAGAGAATAGGCTCGATGAACTTCTGGCAACCTGTTTCCACCGACAAGGTGCTTGTCCTGCATCAATCTGATAAAGCATAGTATCGTATTGCATATTGAAATCTTCTCACAACCAGCAGCCGCGGTAATACG</td><td style = \"text-align: left;\">AUUUUACUAAGAAGAAGGGAGAGAUAGGCUCGAUGAACUUCUGGCAACCUGUUUCCA-CCGACAA-GGUGCUUGUCCCAUCAAUCU-----GUAUUGCAUAUUGAAAU</td></tr><tr><td class = \"rowNumber\" style = \"font-weight: bold; text-align: right;\">10</td><td style = \"font-style: italic; text-align: right;\">missing</td><td style = \"font-style: italic; text-align: right;\">missing</td><td style = \"text-align: left;\">APSAMN22</td><td style = \"text-align: left;\">UUCUUAUCGAGAGCGGUCGAGGGAGCCGGCCCAAUGACGCCGCAACAACCACCUGGUUUUUCGGCCAGGCAGGUGCUAAAUCCGGGCAGAGGUGCUUUGGCACCUACUGCGCAGAUAAGAG</td><td style = \"text-align: left;\">TAACGGAGAA</td><td style = \"text-align: left;\">CCAGCAGCCGCGGTAATACG</td><td style = \"text-align: left;\">TTCTTATCGAGAGCGGTCGAGGGAGCCGGCCCAATGACGCCGCAACAACCACCTGGTTTTTCGGCCAGGCAGGTGCTAAATCCGGGCAGAGGTGCTTTGGCACCTACTGCGCAGATAAGAGTAACGGAGAACCAGCAGCCGCGGTAATACG</td><td style = \"text-align: left;\">CGGCGAATCTAATACGACTCACTATAGGTTCTTATCGAGAGCGGTCGAGGGAGCCGGCCCAATGACGCCGCAACAACCACCTGGTTTTTCGGCCAGGCAGGTGCTAAATCCGGGCAGAGGTGCTTTGGCACCTACTGCGCAGATAAGAGTAACGGAGAACCAGCAGCCGCGGTAATACG</td><td style = \"text-align: left;\">UUCUUAUCGAGAGCGGUCGAGGGACCGGCCCAAUGACGCCGCAACAACCCCUGGUUUUGCCAGGCAGGUGCUAAAUCCGGGCAGAGGUGCUUACUGCGCAGAUAAGAG</td></tr><tr><td class = \"rowNumber\" style = \"font-weight: bold; text-align: right;\">11</td><td style = \"font-style: italic; text-align: right;\">missing</td><td style = \"font-style: italic; text-align: right;\">missing</td><td style = \"text-align: left;\">APSAMN23</td><td style = \"text-align: left;\">CGUUGCUCGGGAGUGAGGGAGGAAUUGGCUCAAUGAACUCCGACAACCUGCCGCCUAUAGCAAAGUGCCAAUUCCAGCUAAAGAAGAUCUUUAGUAAAAUAAGGG</td><td style = \"text-align: left;\">TGGCATAGAA</td><td style = \"text-align: left;\">CCAGCAGCCGCGGTAATACG</td><td style = \"text-align: left;\">CGTTGCTCGGGAGTGAGGGAGGAATTGGCTCAATGAACTCCGACAACCTGCCGCCTATAGCAAAGTGCCAATTCCAGCTAAAGAAGATCTTTAGTAAAATAAGGGTGGCATAGAACCAGCAGCCGCGGTAATACG</td><td style = \"text-align: left;\">CGGCGAATCTAATACGACTCACTATAGGCGTTGCTCGGGAGTGAGGGAGGAATTGGCTCAATGAACTCCGACAACCTGCCGCCTATAGCAAAGTGCCAATTCCAGCTAAAGAAGATCTTTAGTAAAATAAGGGTGGCATAGAACCAGCAGCCGCGGTAATACG</td><td style = \"text-align: left;\">CGUUGCUCGGGAGUGAGGGAGGAAUUGGCUCAAUGAACUC-CGACAACCUGCCGCCU-AUAGCAA-AGUGCCAAUUCCAGCUAAAGAAGAUCUUUAGUAAAAUAAGGG</td></tr><tr><td class = \"rowNumber\" style = \"font-weight: bold; text-align: right;\">12</td><td style = \"font-style: italic; text-align: right;\">missing</td><td style = \"font-style: italic; text-align: right;\">missing</td><td style = \"text-align: left;\">APSAMN26</td><td style = \"text-align: left;\">UUCUUUACUUGAGAAACUGAAGGAAAUGGCCCACUGAAGUUUCAGCAACACCUAAUUUUUAGGAAGGAGCUAACUUCAACAUGAUUGCGUGCAAUUAUGAGAGAUAAGAG</td><td style = \"text-align: left;\">GCCGACAGAA</td><td style = \"text-align: left;\">CCAGCAGCCGCGGTAATACG</td><td style = \"text-align: left;\">TTCTTTACTTGAGAAACTGAAGGAAATGGCCCACTGAAGTTTCAGCAACACCTAATTTTTAGGAAGGAGCTAACTTCAACATGATTGCGTGCAATTATGAGAGATAAGAGGCCGACAGAACCAGCAGCCGCGGTAATACG</td><td style = \"text-align: left;\">CGGCGAATCTAATACGACTCACTATAGGTTCTTTACTTGAGAAACTGAAGGAAATGGCCCACTGAAGTTTCAGCAACACCTAATTTTTAGGAAGGAGCTAACTTCAACATGATTGCGTGCAATTATGAGAGATAAGAGGCCGACAGAACCAGCAGCCGCGGTAATACG</td><td style = \"text-align: left;\">UUCUUUACUUGAGAAACUGAAGGAAUGGCCCACUGAAGUUUCAGCAACACCUAAUU--UUUAGGAAGGAGCUAACUUCAACAUGAUUGCGUAUUAUGAGAGAUAAGAG</td></tr><tr><td class = \"rowNumber\" style = \"font-weight: bold; text-align: right;\">13</td><td style = \"font-style: italic; text-align: right;\">missing</td><td style = \"font-style: italic; text-align: right;\">missing</td><td style = \"text-align: left;\">APSAMN27</td><td style = \"text-align: left;\">UCCUUAUCAAGAGUGGCGGGAAGAGUUCUGGCUCUAAGAUCCGCCCAGCAACCCUUUGAAGCGAUACUUUGAAGAAGGUGCUAAAUCCAGCCCAAGCCGCUCGUCGGCCGGUGGGGAAGAUAAAAU</td><td style = \"text-align: left;\">CGCGTTAGAA</td><td style = \"text-align: left;\">CCAGCAGCCGCGGTAATACG</td><td style = \"text-align: left;\">TCCTTATCAAGAGTGGCGGGAAGAGTTCTGGCTCTAAGATCCGCCCAGCAACCCTTTGAAGCGATACTTTGAAGAAGGTGCTAAATCCAGCCCAAGCCGCTCGTCGGCCGGTGGGGAAGATAAAATCGCGTTAGAACCAGCAGCCGCGGTAATACG</td><td style = \"text-align: left;\">CGGCGAATCTAATACGACTCACTATAGGTCCTTATCAAGAGTGGCGGGAAGAGTTCTGGCTCTAAGATCCGCCCAGCAACCCTTTGAAGCGATACTTTGAAGAAGGTGCTAAATCCAGCCCAAGCCGCTCGTCGGCCGGTGGGGAAGATAAAATCGCGTTAGAACCAGCAGCCGCGGTAATACG</td><td style = \"text-align: left;\">UCCUUAUCAAGAGGCGGGAAGAGUCUGGCUCUAAGAUCCGCCAGCAACCCUUUGAAGCUUGAAGAAGGUGCUAAAUCCAGCCCAA-------GUGGGGAAGAUAAAAU</td></tr><tr><td style = \"text-align: right;\">&vellip;</td><td style = \"text-align: right;\">&vellip;</td><td style = \"text-align: right;\">&vellip;</td><td style = \"text-align: right;\">&vellip;</td><td style = \"text-align: right;\">&vellip;</td><td style = \"text-align: right;\">&vellip;</td><td style = \"text-align: right;\">&vellip;</td><td style = \"text-align: right;\">&vellip;</td><td style = \"text-align: right;\">&vellip;</td><td style = \"text-align: right;\">&vellip;</td></tr><tr><td class = \"rowNumber\" style = \"font-weight: bold; text-align: right;\">476</td><td style = \"font-style: italic; text-align: right;\">missing</td><td style = \"font-style: italic; text-align: right;\">missing</td><td style = \"text-align: left;\">APSAM-S2-416</td><td style = \"text-align: left;\">CUCUUAUCAAGAGAGGUGGAGGGACUGGCCCUAUGAGACCCGGCAACCUUUGGUAAUGUUAAAUUGGUGCUAAUUCCUGCAAAGCGUACUGCUUUGAAAGAUAAGAG</td><td style = \"text-align: left;\">ATGGCTTACT</td><td style = \"text-align: left;\">CCAGTGTCCGCCTATCTCGTCG</td><td style = \"text-align: left;\">CTCTTATCAAGAGAGGTGGAGGGACTGGCCCTATGAGACCCGGCAACCTTTGGTAATGTTAAATTGGTGCTAATTCCTGCAAAGCGTACTGCTTTGAAAGATAAGAGATGGCTTACTCCAGTGTCCGCCTATCTCGTCG</td><td style = \"text-align: left;\">CGGCGAATCTAATACGACTCACTATAGGCTCTTATCAAGAGAGGTGGAGGGACTGGCCCTATGAGACCCGGCAACCTTTGGTAATGTTAAATTGGTGCTAATTCCTGCAAAGCGTACTGCTTTGAAAGATAAGAGATGGCTTACTCCAGTGTCCGCCTATCTCGTCG</td><td style = \"text-align: left;\">CUCUUAUCAAGAGAGGUGGAGGGACUGGCCCUAUGAGACC-CGGCAACCUUUGGUAAUGUUAAAUUGGUGCUAAUUCCUGCAAAGCGUACUGCUUUGAAAGAUAAGAG</td></tr><tr><td class = \"rowNumber\" style = \"font-weight: bold; text-align: right;\">477</td><td style = \"font-style: italic; text-align: right;\">missing</td><td style = \"font-style: italic; text-align: right;\">missing</td><td style = \"text-align: left;\">APSAM-S2-424</td><td style = \"text-align: left;\">CUAUUAUCCAGAGAGGUGGAGGGACUGGCCCUGUGAAGCCCGGCAACCGGGAGCCCAGCUCUCACGGUGCCAAUUCCAGCGGAGCGUGCUGCUCUGGAAGAUGAGAG</td><td style = \"text-align: left;\">CCGAATGGAC</td><td style = \"text-align: left;\">CCAGTGTCCGCCTATCTCGTCG</td><td style = \"text-align: left;\">CTATTATCCAGAGAGGTGGAGGGACTGGCCCTGTGAAGCCCGGCAACCGGGAGCCCAGCTCTCACGGTGCCAATTCCAGCGGAGCGTGCTGCTCTGGAAGATGAGAGCCGAATGGACCCAGTGTCCGCCTATCTCGTCG</td><td style = \"text-align: left;\">CGGCGAATCTAATACGACTCACTATAGGCTATTATCCAGAGAGGTGGAGGGACTGGCCCTGTGAAGCCCGGCAACCGGGAGCCCAGCTCTCACGGTGCCAATTCCAGCGGAGCGTGCTGCTCTGGAAGATGAGAGCCGAATGGACCCAGTGTCCGCCTATCTCGTCG</td><td style = \"text-align: left;\">CUAUUAUCCAGAGAGGUGGAGGGACUGGCCCUGUGAAGCC-CGGCAACCGGGAGCCCAGCUCUCACGGUGCCAAUUCCAGCGGAGCGUGCUGCUCUGGAAGAUGAGAG</td></tr><tr><td class = \"rowNumber\" style = \"font-weight: bold; text-align: right;\">478</td><td style = \"font-style: italic; text-align: right;\">missing</td><td style = \"font-style: italic; text-align: right;\">missing</td><td style = \"text-align: left;\">APSAM-S2-429</td><td style = \"text-align: left;\">UUCUUAUCAAGAGCGGCGGAGGGACUGGCCCUGUGAAGCCCGGCAACCGGCUUAGGCAGGUGCCAAUUCCAGGGGCAAAGUUUUUGCCUGUAGAUGAGAA</td><td style = \"text-align: left;\">TGGCAGTCAC</td><td style = \"text-align: left;\">CCAGTGTCCGCCTATCTCGTCG</td><td style = \"text-align: left;\">TTCTTATCAAGAGCGGCGGAGGGACTGGCCCTGTGAAGCCCGGCAACCGGCTTAGGCAGGTGCCAATTCCAGGGGCAAAGTTTTTGCCTGTAGATGAGAATGGCAGTCACCCAGTGTCCGCCTATCTCGTCG</td><td style = \"text-align: left;\">CGGCGAATCTAATACGACTCACTATAGGTTCTTATCAAGAGCGGCGGAGGGACTGGCCCTGTGAAGCCCGGCAACCGGCTTAGGCAGGTGCCAATTCCAGGGGCAAAGTTTTTGCCTGTAGATGAGAATGGCAGTCACCCAGTGTCCGCCTATCTCGTCG</td><td style = \"text-align: left;\">UUCUUAUCAAGAGCGGCGGAGGGACUGGCCCUGUGAAGCC-CGGCAACCGGCUU------AGGCA-GGUGCCAAUUCCAGGGGCAAAGUUUUUGCCUGUAGAUGAGAA</td></tr><tr><td class = \"rowNumber\" style = \"font-weight: bold; text-align: right;\">479</td><td style = \"font-style: italic; text-align: right;\">missing</td><td style = \"font-style: italic; text-align: right;\">missing</td><td style = \"text-align: left;\">APSAM-S2-430</td><td style = \"text-align: left;\">CUCUUAUCGAGAGAGGUGGAGGGACUGGCCCUAUGAAGCCCGGCAACCAUCAAAAUGUUUUAAACGGUGCCAAUUCCUGCAAAGCAUUUUGCUUUGAAAGAUGAGAG</td><td style = \"text-align: left;\">AGGACACACT</td><td style = \"text-align: left;\">CCAGTGTCCGCCTATCTCGTCG</td><td style = \"text-align: left;\">CTCTTATCGAGAGAGGTGGAGGGACTGGCCCTATGAAGCCCGGCAACCATCAAAATGTTTTAAACGGTGCCAATTCCTGCAAAGCATTTTGCTTTGAAAGATGAGAGAGGACACACTCCAGTGTCCGCCTATCTCGTCG</td><td style = \"text-align: left;\">CGGCGAATCTAATACGACTCACTATAGGCTCTTATCGAGAGAGGTGGAGGGACTGGCCCTATGAAGCCCGGCAACCATCAAAATGTTTTAAACGGTGCCAATTCCTGCAAAGCATTTTGCTTTGAAAGATGAGAGAGGACACACTCCAGTGTCCGCCTATCTCGTCG</td><td style = \"text-align: left;\">CUCUUAUCGAGAGAGGUGGAGGGACUGGCCCUAUGAAGCC-CGGCAACCAUCAAAAUGUUUUAAACGGUGCCAAUUCCUGCAAAGCAUUUUGCUUUGAAAGAUGAGAG</td></tr><tr><td class = \"rowNumber\" style = \"font-weight: bold; text-align: right;\">480</td><td style = \"font-style: italic; text-align: right;\">missing</td><td style = \"font-style: italic; text-align: right;\">missing</td><td style = \"text-align: left;\">APSAM-S2-447</td><td style = \"text-align: left;\">UUAUUAUCAAGAGAGGUUGAGGGACAGGCCCUGAGAAUCCUCAGCAACCUUUUAAAAAAGCAUGUGCUAAUUCCUGGAAGAUGAAAA</td><td style = \"text-align: left;\">ACCGCGATAC</td><td style = \"text-align: left;\">CCAGTGTCCGCCTATCTCGTCG</td><td style = \"text-align: left;\">TTATTATCAAGAGAGGTTGAGGGACAGGCCCTGAGAATCCTCAGCAACCTTTTAAAAAAGCATGTGCTAATTCCTGGAAGATGAAAAACCGCGATACCCAGTGTCCGCCTATCTCGTCG</td><td style = \"text-align: left;\">CGGCGAATCTAATACGACTCACTATAGGTTATTATCAAGAGAGGTTGAGGGACAGGCCCTGAGAATCCTCAGCAACCTTTTAAAAAAGCATGTGCTAATTCCTGGAAGATGAAAAACCGCGATACCCAGTGTCCGCCTATCTCGTCG</td><td style = \"text-align: left;\">UUAUUAUCAAGAGAGGUUGAGGGACAGGCCCUGAGAAUCCUCAGCAACCUUUUAAA----AAAGCAUGUGCUAAUUCCUG-----------------GAAGAUGAAAA</td></tr><tr><td class = \"rowNumber\" style = \"font-weight: bold; text-align: right;\">481</td><td style = \"font-style: italic; text-align: right;\">missing</td><td style = \"font-style: italic; text-align: right;\">missing</td><td style = \"text-align: left;\">APSAM-S2-461</td><td style = \"text-align: left;\">GUUUAAUUGCGAUACUCGGAGGGAGGGACCCAUAAAGGAGUAGGUCACCCCCAGACUCAAUGGGUCGGGACCAAUUUCCUGGCCUAUUACUUAGGCUUUAAAUUAAAC</td><td style = \"text-align: left;\">TGTCGAGATG</td><td style = \"text-align: left;\">CCAGTGTCCGCCTATCTCGTCG</td><td style = \"text-align: left;\">GTTTAATTGCGATACTCGGAGGGAGGGACCCATAAAGGAGTAGGTCACCCCCAGACTCAATGGGTCGGGACCAATTTCCTGGCCTATTACTTAGGCTTTAAATTAAACTGTCGAGATGCCAGTGTCCGCCTATCTCGTCG</td><td style = \"text-align: left;\">CGGCGAATCTAATACGACTCACTATAGGGTTTAATTGCGATACTCGGAGGGAGGGACCCATAAAGGAGTAGGTCACCCCCAGACTCAATGGGTCGGGACCAATTTCCTGGCCTATTACTTAGGCTTTAAATTAAACTGTCGAGATGCCAGTGTCCGCCTATCTCGTCG</td><td style = \"text-align: left;\">GUUUAAUUGCGAUACUCGGAGGGAGGGACCCAUAAAGGAGUAGGUCACCCCCAGACUCAAUGGGUCGGGACCAAUUUCCUGGCCUAUUACUUAGGCUUUAAAUUAAAC</td></tr><tr><td class = \"rowNumber\" style = \"font-weight: bold; text-align: right;\">482</td><td style = \"font-style: italic; text-align: right;\">missing</td><td style = \"font-style: italic; text-align: right;\">missing</td><td style = \"text-align: left;\">APSAM-S2-463</td><td style = \"text-align: left;\">CGGUUAUUAUGAGGCUCGGAAGGAGUCCCCUAUGGGAGAGCUUCGCACCCGGAAAUUCCCUCCGUUGGGCGAAAUUGGACCAUAAAGCGAAUUUAUGUAAGAUGAUUG</td><td style = \"text-align: left;\">TAGGTGCAAG</td><td style = \"text-align: left;\">CCAGTGTCCGCCTATCTCGTCG</td><td style = \"text-align: left;\">CGGTTATTATGAGGCTCGGAAGGAGTCCCCTATGGGAGAGCTTCGCACCCGGAAATTCCCTCCGTTGGGCGAAATTGGACCATAAAGCGAATTTATGTAAGATGATTGTAGGTGCAAGCCAGTGTCCGCCTATCTCGTCG</td><td style = \"text-align: left;\">CGGCGAATCTAATACGACTCACTATAGGCGGTTATTATGAGGCTCGGAAGGAGTCCCCTATGGGAGAGCTTCGCACCCGGAAATTCCCTCCGTTGGGCGAAATTGGACCATAAAGCGAATTTATGTAAGATGATTGTAGGTGCAAGCCAGTGTCCGCCTATCTCGTCG</td><td style = \"text-align: left;\">CGGUUAUUAUGAGGCUCGGAAGGAGUCCCCUAUGGGAGAGCUUCGCACCCGGAAAUUCCCUCCGUUGGGCGAAAUUGGACCAUAAAGCGAAUUUAUGUAAGAUGAUUG</td></tr><tr><td class = \"rowNumber\" style = \"font-weight: bold; text-align: right;\">483</td><td style = \"font-style: italic; text-align: right;\">missing</td><td style = \"font-style: italic; text-align: right;\">missing</td><td style = \"text-align: left;\">APSAM-S2-465</td><td style = \"text-align: left;\">UAUUGAUAAAGAUGAUCGGAAGGACCGGCCUAUAGUAGAUCAGAACACCCGCAGGUCUGGUGCGUAGGGUUCAAUUCCGGGAGUACCUAGAGUACUUGUAUAUUAAUA</td><td style = \"text-align: left;\">GACCAGATAT</td><td style = \"text-align: left;\">CCAGTGTCCGCCTATCTCGTCG</td><td style = \"text-align: left;\">TATTGATAAAGATGATCGGAAGGACCGGCCTATAGTAGATCAGAACACCCGCAGGTCTGGTGCGTAGGGTTCAATTCCGGGAGTACCTAGAGTACTTGTATATTAATAGACCAGATATCCAGTGTCCGCCTATCTCGTCG</td><td style = \"text-align: left;\">CGGCGAATCTAATACGACTCACTATAGGTATTGATAAAGATGATCGGAAGGACCGGCCTATAGTAGATCAGAACACCCGCAGGTCTGGTGCGTAGGGTTCAATTCCGGGAGTACCTAGAGTACTTGTATATTAATAGACCAGATATCCAGTGTCCGCCTATCTCGTCG</td><td style = \"text-align: left;\">UAUUGAUAAAGAUGAUCGGAAGGACCGGCCUAUAGUAGAUCAGAACACCCGCAGGUCUGGUGCGUAGGGUUCAAUUCCGGGAGUACCUAGAGUACUUGUAUAUUAAUA</td></tr><tr><td class = \"rowNumber\" style = \"font-weight: bold; text-align: right;\">484</td><td style = \"font-style: italic; text-align: right;\">missing</td><td style = \"font-style: italic; text-align: right;\">missing</td><td style = \"text-align: left;\">APSAM-S2-479</td><td style = \"text-align: left;\">UUAUAAUUGUGACGCUCGGAAGGAGCGCCCUAUGUAGGAGUGAUGCACCCCCGCAAAAUACGGGUUGGGCAUAACUGCGCAGAGUGACUAGCACUCUAAAAAUUGUGA</td><td style = \"text-align: left;\">CGATTAGGTC</td><td style = \"text-align: left;\">CCAGTGTCCGCCTATCTCGTCG</td><td style = \"text-align: left;\">TTATAATTGTGACGCTCGGAAGGAGCGCCCTATGTAGGAGTGATGCACCCCCGCAAAATACGGGTTGGGCATAACTGCGCAGAGTGACTAGCACTCTAAAAATTGTGACGATTAGGTCCCAGTGTCCGCCTATCTCGTCG</td><td style = \"text-align: left;\">CGGCGAATCTAATACGACTCACTATAGGTTATAATTGTGACGCTCGGAAGGAGCGCCCTATGTAGGAGTGATGCACCCCCGCAAAATACGGGTTGGGCATAACTGCGCAGAGTGACTAGCACTCTAAAAATTGTGACGATTAGGTCCCAGTGTCCGCCTATCTCGTCG</td><td style = \"text-align: left;\">UUAUAAUUGUGACGCUCGGAAGGAGCGCCCUAUGUAGGAGUGAUGCACCCCCGCAAAAUACGGGUUGGGCAUAACUGCGCAGAGUGACUAGCACUCUAAAAAUUGUGA</td></tr><tr><td class = \"rowNumber\" style = \"font-weight: bold; text-align: right;\">485</td><td style = \"font-style: italic; text-align: right;\">missing</td><td style = \"font-style: italic; text-align: right;\">missing</td><td style = \"text-align: left;\">APSAM-S2-490</td><td style = \"text-align: left;\">UUGUGAUUAAGAGGUUCGGAAGGAGCGGCCUAUAGUAGAAUCGGGCACCCGUUACAAAGAAACGUCGGGCUCAACUCCGCACUCGUUUAUUACGGGUACAGAUUGCGA</td><td style = \"text-align: left;\">GATCATGGAT</td><td style = \"text-align: left;\">CCAGTGTCCGCCTATCTCGTCG</td><td style = \"text-align: left;\">TTGTGATTAAGAGGTTCGGAAGGAGCGGCCTATAGTAGAATCGGGCACCCGTTACAAAGAAACGTCGGGCTCAACTCCGCACTCGTTTATTACGGGTACAGATTGCGAGATCATGGATCCAGTGTCCGCCTATCTCGTCG</td><td style = \"text-align: left;\">CGGCGAATCTAATACGACTCACTATAGGTTGTGATTAAGAGGTTCGGAAGGAGCGGCCTATAGTAGAATCGGGCACCCGTTACAAAGAAACGTCGGGCTCAACTCCGCACTCGTTTATTACGGGTACAGATTGCGAGATCATGGATCCAGTGTCCGCCTATCTCGTCG</td><td style = \"text-align: left;\">UUGUGAUUAAGAGGUUCGGAAGGAGCGGCCUAUAGUAGAAUCGGGCACCCGUUACAAAGAAACGUCGGGCUCAACUCCGCACUCGUUUAUUACGGGUACAGAUUGCGA</td></tr><tr><td class = \"rowNumber\" style = \"font-weight: bold; text-align: right;\">486</td><td style = \"font-style: italic; text-align: right;\">missing</td><td style = \"font-style: italic; text-align: right;\">missing</td><td style = \"text-align: left;\">APSAM-S2-492</td><td style = \"text-align: left;\">UUGGUAUGGCGAUGCUCGGAGGGAGCUCCCCAUAAAAGAGCACUCCACCCUGCGUCUAAAGUAGUCGGGGAGAAUUGAGCUGUGCGCGAUACGCACAUAAUAUACUGA</td><td style = \"text-align: left;\">CGAGAGATGC</td><td style = \"text-align: left;\">CCAGTGTCCGCCTATCTCGTCG</td><td style = \"text-align: left;\">TTGGTATGGCGATGCTCGGAGGGAGCTCCCCATAAAAGAGCACTCCACCCTGCGTCTAAAGTAGTCGGGGAGAATTGAGCTGTGCGCGATACGCACATAATATACTGACGAGAGATGCCCAGTGTCCGCCTATCTCGTCG</td><td style = \"text-align: left;\">CGGCGAATCTAATACGACTCACTATAGGTTGGTATGGCGATGCTCGGAGGGAGCTCCCCATAAAAGAGCACTCCACCCTGCGTCTAAAGTAGTCGGGGAGAATTGAGCTGTGCGCGATACGCACATAATATACTGACGAGAGATGCCCAGTGTCCGCCTATCTCGTCG</td><td style = \"text-align: left;\">UUGGUAUGGCGAUGCUCGGAGGGAGCUCCCCAUAAAAGAGCACUCCACCCUGCGUCUAAAGUAGUCGGGGAGAAUUGAGCUGUGCGCGAUACGCACAUAAUAUACUGA</td></tr><tr><td class = \"rowNumber\" style = \"font-weight: bold; text-align: right;\">487</td><td style = \"font-style: italic; text-align: right;\">missing</td><td style = \"font-style: italic; text-align: right;\">missing</td><td style = \"text-align: left;\">APSAM-S2-493</td><td style = \"text-align: left;\">CUGUUAUGAAGACCGUCGGAAGGAUGACCCUAUAAAGGACGGCUGCACCCCGCUAGCUUCGCGGUCGGGCAGAAUUGUCAGAACAUAUCUAGUGUUUGAAUAUAAUGG</td><td style = \"text-align: left;\">TCGAGAGGCT</td><td style = \"text-align: left;\">CCAGTGTCCGCCTATCTCGTCG</td><td style = \"text-align: left;\">CTGTTATGAAGACCGTCGGAAGGATGACCCTATAAAGGACGGCTGCACCCCGCTAGCTTCGCGGTCGGGCAGAATTGTCAGAACATATCTAGTGTTTGAATATAATGGTCGAGAGGCTCCAGTGTCCGCCTATCTCGTCG</td><td style = \"text-align: left;\">CGGCGAATCTAATACGACTCACTATAGGCTGTTATGAAGACCGTCGGAAGGATGACCCTATAAAGGACGGCTGCACCCCGCTAGCTTCGCGGTCGGGCAGAATTGTCAGAACATATCTAGTGTTTGAATATAATGGTCGAGAGGCTCCAGTGTCCGCCTATCTCGTCG</td><td style = \"text-align: left;\">CUGUUAUGAAGACCGUCGGAAGGAUGACCCUAUAAAGGACGGCUGCACCCCGCUAGCUUCGCGGUCGGGCAGAAUUGUCAGAACAUAUCUAGUGUUUGAAUAUAAUGG</td></tr></tbody></table></div>"
      ],
      "text/latex": [
       "\\begin{tabular}{r|ccccc}\n",
       "\t& description & id & name & sequence & \\\\\n",
       "\t\\hline\n",
       "\t& Missing & Missing & String15 & String & \\\\\n",
       "\t\\hline\n",
       "\t1 & \\emph{missing} & \\emph{missing} & APSAMN3 & CUCUUAUUAUGAGUGGAGCGAGGGAUUUGGCCCUGGGACCUCCCGGCAACCAUCGAGCUAAGCUCGAUAUGGUGCCCAUUCCAUCCCCGUUGAGUAACGGGGCAGAUAAGAA & $\\dots$ \\\\\n",
       "\t2 & \\emph{missing} & \\emph{missing} & APSAMN7 & ACCUUAUCCAGAGUGACCGAGGGACUUGGCCCGGUGACGUCACAGCAACCCUUGUCCCGCCAAACUUAGUAGGCGGAUCAACACGGUGCUACCUCCAACCCCAUAGUUCCAAGCGAUUAAUCGUUUUUUAUGGGGGGAAGAUAAGAA & $\\dots$ \\\\\n",
       "\t3 & \\emph{missing} & \\emph{missing} & APSAMN8 & UAACUAUAAAGAGAAGGGGAGAGACAAGCUCUAUGAACCUUCAGCAACUUACCUAACAAAGGCAAAGUGCUAAAGCUUGUAUGAUAGUGAAGGUUUUAAUUUUCAUAAAAAUAAUUA & $\\dots$ \\\\\n",
       "\t4 & \\emph{missing} & \\emph{missing} & APSAMN9 & CACUCAUGACGAGGGUGCGAGGGACUUGGCCCGAUGACCACCCGGCAACCUGUGCAGGCGAGACGCCGUCAGCCAGCACAACGGUGCCAACCAGCCGCGACGGGAACGCGGGAACAUGAGGC & $\\dots$ \\\\\n",
       "\t5 & \\emph{missing} & \\emph{missing} & APSAMN12 & UAAUUAUCAAGAGUAGGCACGAGGGAACUAGCCCGUUAUUAGUGUCUCAGCAACCUGUCCGCCGUGGCGGAUAAGGUGCUACUUCUAGCUCCGCCUUGGGUGGAGAGAGAUAAUAU & $\\dots$ \\\\\n",
       "\t6 & \\emph{missing} & \\emph{missing} & APSAMN14 & CUCUUAUUCAGAGUGGUGGAGGUACAUAGGACCUAUGAAACCACGGCAACCCCUUGAGUGAUCAGGAAGGUGCCAACCUGAGCGUGCAGUUCCCGAAUGGGAAUAUGAGAU & $\\dots$ \\\\\n",
       "\t7 & \\emph{missing} & \\emph{missing} & APSAMN15 & GACCUAUGAAGAGUACGGAAGAGACAGGCUCGUCGCCGUACCGCAACCUGCAUACGCAAGGUGCGAAAUCCUGCGGGGAAACCCGGAAGAUAGGGA & $\\dots$ \\\\\n",
       "\t8 & \\emph{missing} & \\emph{missing} & APSAMN17 & AAAUUAUCAAGAAAGCCGGGGAGAGUAUUGGCUCAUUGAUCCGGUUAGCAACCAGUUUAGUUGCCCGUAACUAUUUAUUGGUAACUGAACGUGGUGCUCCAUCCAACCCGUUAACGCAUAAGCGGGAAAGAUAAGCU & $\\dots$ \\\\\n",
       "\t9 & \\emph{missing} & \\emph{missing} & APSAMN21 & AUUUUACUAAGAAGAAGGGAGAGAAUAGGCUCGAUGAACUUCUGGCAACCUGUUUCCACCGACAAGGUGCUUGUCCUGCAUCAAUCUGAUAAAGCAUAGUAUCGUAUUGCAUAUUGAAAU & $\\dots$ \\\\\n",
       "\t10 & \\emph{missing} & \\emph{missing} & APSAMN22 & UUCUUAUCGAGAGCGGUCGAGGGAGCCGGCCCAAUGACGCCGCAACAACCACCUGGUUUUUCGGCCAGGCAGGUGCUAAAUCCGGGCAGAGGUGCUUUGGCACCUACUGCGCAGAUAAGAG & $\\dots$ \\\\\n",
       "\t11 & \\emph{missing} & \\emph{missing} & APSAMN23 & CGUUGCUCGGGAGUGAGGGAGGAAUUGGCUCAAUGAACUCCGACAACCUGCCGCCUAUAGCAAAGUGCCAAUUCCAGCUAAAGAAGAUCUUUAGUAAAAUAAGGG & $\\dots$ \\\\\n",
       "\t12 & \\emph{missing} & \\emph{missing} & APSAMN26 & UUCUUUACUUGAGAAACUGAAGGAAAUGGCCCACUGAAGUUUCAGCAACACCUAAUUUUUAGGAAGGAGCUAACUUCAACAUGAUUGCGUGCAAUUAUGAGAGAUAAGAG & $\\dots$ \\\\\n",
       "\t13 & \\emph{missing} & \\emph{missing} & APSAMN27 & UCCUUAUCAAGAGUGGCGGGAAGAGUUCUGGCUCUAAGAUCCGCCCAGCAACCCUUUGAAGCGAUACUUUGAAGAAGGUGCUAAAUCCAGCCCAAGCCGCUCGUCGGCCGGUGGGGAAGAUAAAAU & $\\dots$ \\\\\n",
       "\t14 & \\emph{missing} & \\emph{missing} & APSAMN29 & GAUUUAUAGAGAAGAGGGGAGAGAUUAGGCUCUGUGAACCUCUAGCAACCGGAAUAAAUAUGUUCUAUGGUGCUAAUACCUAACCCAAAGGUUCCGUUUAUAGGGAAAAACCGAAGGGAAAUUAUAAACU & $\\dots$ \\\\\n",
       "\t15 & \\emph{missing} & \\emph{missing} & APSAMN32 & CAUUUAUUCCGAAGAGGCGAGAGACUAGGCUCCGUGACCCUCUGGCAACCACCAGCAAUGCACAAGCUGGCAGGUGCCAAAUCCUGCCCCACUGCUCACUGCAGGAAGGGGAAAAAUAAACC & $\\dots$ \\\\\n",
       "\t16 & \\emph{missing} & \\emph{missing} & APSAMN34 & AAUAAAUCAAGAGUGUGCUGAGGGCACUGGCCCAUAGAAGCACCGCCAACCGAGUCUUACGACCACGGUGGCAAAUCCAGCCCUUGAAAGAGGGAAAGAUUUGGC & $\\dots$ \\\\\n",
       "\t17 & \\emph{missing} & \\emph{missing} & APSAMN36 & CUACUAUAAAGAGUGCGUGAGGGAGUAAGCCCUAUGAUCGCACACCAACCUACCAAAAGGCAAGGUGGUAAAGCUUAACCGAUGGUGUGUAUAUAUUUAGACUGGUCAACAUCUAUCGGUAACGAUGGGUG & $\\dots$ \\\\\n",
       "\t18 & \\emph{missing} & \\emph{missing} & APSAMN39 & UAAAUAUCAAGAGAGCGACGAGGGAUUCUGGUCCUAUGACUCGCCAGCAACCGAAUGGAGACAUCACGGUGCUACGUCCAGCCUGAAGUAAUUCAGGAAGAUAUUUC & $\\dots$ \\\\\n",
       "\t19 & \\emph{missing} & \\emph{missing} & APSAMN40 & AUGUCAUCAAGAAAGGUAGAGGGUUCGCGCCCGAUGAAGCCUUAGCAACCGUCCAAAGGUCUAAUUCGCGAAAGUUAAGCAACUUUGGAUUGGUGCUAAUUCGCGCCUGUGCGUCAUUGCAACGGGGAAGAUGAUAG & $\\dots$ \\\\\n",
       "\t20 & \\emph{missing} & \\emph{missing} & APSAMN41 & CAGCUAUCAAGAGCAGGCGAGUGAUACAGCACUUUGACCCUGCACCAACCGGCGGUAAAUUUAACAAUUUGCAGUGUACGGUGGUAAUUCUGUACAGAUAGUCG & $\\dots$ \\\\\n",
       "\t21 & \\emph{missing} & \\emph{missing} & APSAMN42 & UUUUUAUACAGAGACGCGGAGAGAAAGGCUCUACGAUGCGUCGGCAACCUCCGCUAAUGGCCGGAACGGUGCCCAACCGAAGGUCAGAGAAGCUACUUCCUGACAAUAUAAAAA & $\\dots$ \\\\\n",
       "\t22 & \\emph{missing} & \\emph{missing} & APSAMN43 & UCCUUAUUAAGAGCGAGUGAGGGAAUGGGCCCGGCGAACUCGCGGCAGCAUCGCAUAUUGCGGUUGUGCCAAGUCCCACAGGCAAAGCCUGAAAGAUGAGGA & $\\dots$ \\\\\n",
       "\t23 & \\emph{missing} & \\emph{missing} & APSAMN44 & CUCUUAUCCUGAGUUGGCGGAGGGACAGGCCCGAUGAAACCCGGCAACCUUCUCAACGACAAGCGAUGAUUUUGAAGCCGUCAGGUAAAAGGACAUGCUUCUUAUGUCGUACCGGCGACGCGAGGGGCUUGUGAGAAAGGUGCUAACCUGAUGCAAGGUGUAAAUACCUUGAACGAUAAGAG & $\\dots$ \\\\\n",
       "\t24 & \\emph{missing} & \\emph{missing} & APSAMN45 & CUUUUAUCCAGAGCGAUGGAGGGAUCGGCCCUGCGAAGUCGCAGCAACCCACAAAAAGCCUCUGCUCAUCACCAGAUGGCUUUUUGCAAGGUGCUAAUUCCGGCCCGACUGCUGAACGUUGUAGGCACACGAUGUUCAAGGCUAGGCAUAGCCUGGCAGUUGGGAAAGAUAAGAG & $\\dots$ \\\\\n",
       "\t$\\dots$ & $\\dots$ & $\\dots$ & $\\dots$ & $\\dots$ &  \\\\\n",
       "\\end{tabular}\n"
      ],
      "text/plain": [
       "\u001b[1m487×9 DataFrame\u001b[0m\n",
       "\u001b[1m Row \u001b[0m│\u001b[1m description \u001b[0m\u001b[1m id      \u001b[0m\u001b[1m name         \u001b[0m\u001b[1m sequence                          \u001b[0m\u001b[1m \u001b[0m ⋯\n",
       "     │\u001b[90m Missing     \u001b[0m\u001b[90m Missing \u001b[0m\u001b[90m String15     \u001b[0m\u001b[90m String                            \u001b[0m\u001b[90m \u001b[0m ⋯\n",
       "─────┼──────────────────────────────────────────────────────────────────────────\n",
       "   1 │\u001b[90m     missing \u001b[0m\u001b[90m missing \u001b[0m APSAMN3       CUCUUAUUAUGAGUGGAGCGAGGGAUUUGGCC…   ⋯\n",
       "   2 │\u001b[90m     missing \u001b[0m\u001b[90m missing \u001b[0m APSAMN7       ACCUUAUCCAGAGUGACCGAGGGACUUGGCCC…\n",
       "   3 │\u001b[90m     missing \u001b[0m\u001b[90m missing \u001b[0m APSAMN8       UAACUAUAAAGAGAAGGGGAGAGACAAGCUCU…\n",
       "   4 │\u001b[90m     missing \u001b[0m\u001b[90m missing \u001b[0m APSAMN9       CACUCAUGACGAGGGUGCGAGGGACUUGGCCC…\n",
       "   5 │\u001b[90m     missing \u001b[0m\u001b[90m missing \u001b[0m APSAMN12      UAAUUAUCAAGAGUAGGCACGAGGGAACUAGC…   ⋯\n",
       "   6 │\u001b[90m     missing \u001b[0m\u001b[90m missing \u001b[0m APSAMN14      CUCUUAUUCAGAGUGGUGGAGGUACAUAGGAC…\n",
       "   7 │\u001b[90m     missing \u001b[0m\u001b[90m missing \u001b[0m APSAMN15      GACCUAUGAAGAGUACGGAAGAGACAGGCUCG…\n",
       "   8 │\u001b[90m     missing \u001b[0m\u001b[90m missing \u001b[0m APSAMN17      AAAUUAUCAAGAAAGCCGGGGAGAGUAUUGGC…\n",
       "  ⋮  │      ⋮          ⋮          ⋮                        ⋮                   ⋱\n",
       " 481 │\u001b[90m     missing \u001b[0m\u001b[90m missing \u001b[0m APSAM-S2-461  GUUUAAUUGCGAUACUCGGAGGGAGGGACCCA…   ⋯\n",
       " 482 │\u001b[90m     missing \u001b[0m\u001b[90m missing \u001b[0m APSAM-S2-463  CGGUUAUUAUGAGGCUCGGAAGGAGUCCCCUA…\n",
       " 483 │\u001b[90m     missing \u001b[0m\u001b[90m missing \u001b[0m APSAM-S2-465  UAUUGAUAAAGAUGAUCGGAAGGACCGGCCUA…\n",
       " 484 │\u001b[90m     missing \u001b[0m\u001b[90m missing \u001b[0m APSAM-S2-479  UUAUAAUUGUGACGCUCGGAAGGAGCGCCCUA…\n",
       " 485 │\u001b[90m     missing \u001b[0m\u001b[90m missing \u001b[0m APSAM-S2-490  UUGUGAUUAAGAGGUUCGGAAGGAGCGGCCUA…   ⋯\n",
       " 486 │\u001b[90m     missing \u001b[0m\u001b[90m missing \u001b[0m APSAM-S2-492  UUGGUAUGGCGAUGCUCGGAGGGAGCUCCCCA…\n",
       " 487 │\u001b[90m     missing \u001b[0m\u001b[90m missing \u001b[0m APSAM-S2-493  CUGUUAUGAAGACCGUCGGAAGGAUGACCCUA…\n",
       "\u001b[36m                                                  5 columns and 472 rows omitted\u001b[0m"
      ]
     },
     "metadata": {},
     "output_type": "display_data"
    }
   ],
   "source": [
    "dms_df = SamApp2024.SamApp2024.load_dms_data_sequences_table_20250303_with_aligned_sequences()"
   ]
  },
  {
   "cell_type": "code",
   "execution_count": 21,
   "metadata": {},
   "outputs": [
    {
     "data": {
      "text/plain": [
       "148"
      ]
     },
     "metadata": {},
     "output_type": "display_data"
    }
   ],
   "source": [
    "length(dms_df.name ∩ [\"APSAM-S2-\" * lpad(n, 3, '0') for n = 1:500])"
   ]
  },
  {
   "cell_type": "code",
   "execution_count": 22,
   "metadata": {},
   "outputs": [
    {
     "data": {
      "text/plain": [
       "400"
      ]
     },
     "metadata": {},
     "output_type": "display_data"
    }
   ],
   "source": [
    "length(dms_df.name ∩ shape_data_2023.aptamer_names) + length(dms_df.name ∩ [\"APSAM-S2-\" * lpad(n, 3, '0') for n = 1:500])"
   ]
  },
  {
   "cell_type": "code",
   "execution_count": 24,
   "metadata": {},
   "outputs": [
    {
     "ename": "ErrorException",
     "evalue": "type NamedTuple has no field sequences",
     "output_type": "error",
     "traceback": [
      "type NamedTuple has no field sequences\n",
      "\n",
      "Stacktrace:\n",
      " [1] getproperty(x::@NamedTuple{shape_reactivities::Array{Float64, 3}, shape_reactivities_err::Array{Float64, 3}, shape_reactivities_indivnorm::Array{Float64, 3}, shape_reactivities_indivnorm_err::Array{Float64, 3}, shape_raw_reactivities::Array{Float64, 3}, shape_raw_reactivities_err::Array{Float64, 3}, shape_M::Array{Float64, 3}, shape_M_depth::Array{Float64, 3}, shape_M_stderr::Array{Float64, 3}, shape_U::Array{Float64, 3}, shape_U_depth::Array{Float64, 3}, shape_U_stderr::Array{Float64, 3}, shape_D::Array{Float64, 3}, shape_D_depth::Array{Float64, 3}, shape_D_stderr::Array{Float64, 3}, conditions::Vector{String}, aptamer_names::Vector{String}, aptamer_origin::Vector{String}, aptamer_ids::Vector{InlineStrings.String31}, aligned_sequences::Vector{Union{Missing, String}}, missing_files::Vector{String}}, f::Symbol)\n",
      "   @ Base ./Base.jl:49\n",
      " [2] top-level scope\n",
      "   @ ~/projects/2022/SAM_Riboswitch/julia/SamApp2024.jl/jupyter/jl_notebook_cell_df34fa98e69747e1a8f8a730347b8e2f_X10sZmlsZQ==.jl:1"
     ]
    }
   ],
   "source": [
    "shape_data_2023.sequences"
   ]
  },
  {
   "cell_type": "code",
   "execution_count": null,
   "metadata": {},
   "outputs": [],
   "source": []
  }
 ],
 "metadata": {
  "kernelspec": {
   "display_name": "Julia 1.11.3",
   "language": "julia",
   "name": "julia-1.11"
  },
  "language_info": {
   "file_extension": ".jl",
   "mimetype": "application/julia",
   "name": "julia",
   "version": "1.11.3"
  }
 },
 "nbformat": 4,
 "nbformat_minor": 2
}
